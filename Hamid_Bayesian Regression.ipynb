{
 "cells": [
  {
   "cell_type": "markdown",
   "metadata": {},
   "source": [
    "# Loading the Dataset"
   ]
  },
  {
   "cell_type": "code",
   "execution_count": 389,
   "metadata": {},
   "outputs": [
    {
     "data": {
      "text/html": [
       "<div>\n",
       "<style scoped>\n",
       "    .dataframe tbody tr th:only-of-type {\n",
       "        vertical-align: middle;\n",
       "    }\n",
       "\n",
       "    .dataframe tbody tr th {\n",
       "        vertical-align: top;\n",
       "    }\n",
       "\n",
       "    .dataframe thead th {\n",
       "        text-align: right;\n",
       "    }\n",
       "</style>\n",
       "<table border=\"1\" class=\"dataframe\">\n",
       "  <thead>\n",
       "    <tr style=\"text-align: right;\">\n",
       "      <th></th>\n",
       "      <th>isShowcaseListing</th>\n",
       "      <th>longitude</th>\n",
       "      <th>timeOnZillow</th>\n",
       "      <th>zestimate</th>\n",
       "      <th>daysOnZillow</th>\n",
       "      <th>zpid</th>\n",
       "      <th>taxAssessedValue</th>\n",
       "      <th>isUnmappable</th>\n",
       "      <th>priceForHDP</th>\n",
       "      <th>dateSold</th>\n",
       "      <th>state</th>\n",
       "      <th>isFeatured</th>\n",
       "      <th>isPremierBuilder</th>\n",
       "      <th>isPreforeclosureAuction</th>\n",
       "      <th>lotAreaValue</th>\n",
       "      <th>isNonOwnerOccupied</th>\n",
       "      <th>homeStatus</th>\n",
       "      <th>latitude</th>\n",
       "      <th>lotAreaUnit</th>\n",
       "      <th>bedrooms</th>\n",
       "      <th>zipcode</th>\n",
       "      <th>homeStatusForHDP</th>\n",
       "      <th>isZillowOwned</th>\n",
       "      <th>shouldHighlight</th>\n",
       "      <th>homeType</th>\n",
       "      <th>bathrooms</th>\n",
       "      <th>rentZestimate</th>\n",
       "      <th>price</th>\n",
       "      <th>city</th>\n",
       "      <th>streetAddress</th>\n",
       "      <th>country</th>\n",
       "      <th>currency</th>\n",
       "      <th>listing_sub_type</th>\n",
       "      <th>livingArea</th>\n",
       "    </tr>\n",
       "  </thead>\n",
       "  <tbody>\n",
       "    <tr>\n",
       "      <th>0</th>\n",
       "      <td>False</td>\n",
       "      <td>NaN</td>\n",
       "      <td>6.205267e+10</td>\n",
       "      <td>NaN</td>\n",
       "      <td>718</td>\n",
       "      <td>2071870830</td>\n",
       "      <td>NaN</td>\n",
       "      <td>False</td>\n",
       "      <td>430000</td>\n",
       "      <td>1650524400000</td>\n",
       "      <td>ON</td>\n",
       "      <td>False</td>\n",
       "      <td>False</td>\n",
       "      <td>False</td>\n",
       "      <td>NaN</td>\n",
       "      <td>True</td>\n",
       "      <td>RECENTLY_SOLD</td>\n",
       "      <td>NaN</td>\n",
       "      <td>NaN</td>\n",
       "      <td>0</td>\n",
       "      <td>M5V1B7</td>\n",
       "      <td>RECENTLY_SOLD</td>\n",
       "      <td>False</td>\n",
       "      <td>False</td>\n",
       "      <td>CONDO</td>\n",
       "      <td>1.0</td>\n",
       "      <td>NaN</td>\n",
       "      <td>430000</td>\n",
       "      <td>Toronto</td>\n",
       "      <td>600 Fleet St #409</td>\n",
       "      <td>CAN</td>\n",
       "      <td>CAD</td>\n",
       "      <td>{}</td>\n",
       "      <td>NaN</td>\n",
       "    </tr>\n",
       "    <tr>\n",
       "      <th>1</th>\n",
       "      <td>False</td>\n",
       "      <td>-79.419914</td>\n",
       "      <td>8.036947e+10</td>\n",
       "      <td>NaN</td>\n",
       "      <td>930</td>\n",
       "      <td>2068504642</td>\n",
       "      <td>NaN</td>\n",
       "      <td>False</td>\n",
       "      <td>1452000</td>\n",
       "      <td>1632207600000</td>\n",
       "      <td>ON</td>\n",
       "      <td>False</td>\n",
       "      <td>False</td>\n",
       "      <td>False</td>\n",
       "      <td>NaN</td>\n",
       "      <td>True</td>\n",
       "      <td>RECENTLY_SOLD</td>\n",
       "      <td>43.661144</td>\n",
       "      <td>NaN</td>\n",
       "      <td>0</td>\n",
       "      <td>M6G3H2</td>\n",
       "      <td>RECENTLY_SOLD</td>\n",
       "      <td>False</td>\n",
       "      <td>False</td>\n",
       "      <td>SINGLE_FAMILY</td>\n",
       "      <td>1.0</td>\n",
       "      <td>NaN</td>\n",
       "      <td>1452000</td>\n",
       "      <td>Toronto</td>\n",
       "      <td>429 Montrose Ave</td>\n",
       "      <td>CAN</td>\n",
       "      <td>CAD</td>\n",
       "      <td>{}</td>\n",
       "      <td>750.0</td>\n",
       "    </tr>\n",
       "    <tr>\n",
       "      <th>2</th>\n",
       "      <td>False</td>\n",
       "      <td>NaN</td>\n",
       "      <td>8.131987e+10</td>\n",
       "      <td>NaN</td>\n",
       "      <td>941</td>\n",
       "      <td>2071852833</td>\n",
       "      <td>NaN</td>\n",
       "      <td>False</td>\n",
       "      <td>430000</td>\n",
       "      <td>1631257200000</td>\n",
       "      <td>ON</td>\n",
       "      <td>False</td>\n",
       "      <td>False</td>\n",
       "      <td>False</td>\n",
       "      <td>NaN</td>\n",
       "      <td>True</td>\n",
       "      <td>RECENTLY_SOLD</td>\n",
       "      <td>NaN</td>\n",
       "      <td>NaN</td>\n",
       "      <td>0</td>\n",
       "      <td>M5V1B7</td>\n",
       "      <td>RECENTLY_SOLD</td>\n",
       "      <td>False</td>\n",
       "      <td>False</td>\n",
       "      <td>CONDO</td>\n",
       "      <td>1.0</td>\n",
       "      <td>NaN</td>\n",
       "      <td>430000</td>\n",
       "      <td>Toronto</td>\n",
       "      <td>600 Fleet St UNIT 232</td>\n",
       "      <td>CAN</td>\n",
       "      <td>CAD</td>\n",
       "      <td>{}</td>\n",
       "      <td>NaN</td>\n",
       "    </tr>\n",
       "    <tr>\n",
       "      <th>3</th>\n",
       "      <td>False</td>\n",
       "      <td>NaN</td>\n",
       "      <td>8.563987e+10</td>\n",
       "      <td>NaN</td>\n",
       "      <td>991</td>\n",
       "      <td>2069940188</td>\n",
       "      <td>NaN</td>\n",
       "      <td>False</td>\n",
       "      <td>1300000</td>\n",
       "      <td>1626937200000</td>\n",
       "      <td>ON</td>\n",
       "      <td>False</td>\n",
       "      <td>False</td>\n",
       "      <td>False</td>\n",
       "      <td>NaN</td>\n",
       "      <td>True</td>\n",
       "      <td>RECENTLY_SOLD</td>\n",
       "      <td>NaN</td>\n",
       "      <td>NaN</td>\n",
       "      <td>0</td>\n",
       "      <td>N1S0A8</td>\n",
       "      <td>RECENTLY_SOLD</td>\n",
       "      <td>False</td>\n",
       "      <td>False</td>\n",
       "      <td>SINGLE_FAMILY</td>\n",
       "      <td>4.0</td>\n",
       "      <td>NaN</td>\n",
       "      <td>1300000</td>\n",
       "      <td>Cambridge</td>\n",
       "      <td>386 Salisbury Ave</td>\n",
       "      <td>CAN</td>\n",
       "      <td>CAD</td>\n",
       "      <td>{}</td>\n",
       "      <td>NaN</td>\n",
       "    </tr>\n",
       "    <tr>\n",
       "      <th>4</th>\n",
       "      <td>False</td>\n",
       "      <td>NaN</td>\n",
       "      <td>6.205267e+10</td>\n",
       "      <td>NaN</td>\n",
       "      <td>718</td>\n",
       "      <td>2071870830</td>\n",
       "      <td>NaN</td>\n",
       "      <td>False</td>\n",
       "      <td>430000</td>\n",
       "      <td>1650524400000</td>\n",
       "      <td>ON</td>\n",
       "      <td>False</td>\n",
       "      <td>False</td>\n",
       "      <td>False</td>\n",
       "      <td>NaN</td>\n",
       "      <td>True</td>\n",
       "      <td>RECENTLY_SOLD</td>\n",
       "      <td>NaN</td>\n",
       "      <td>NaN</td>\n",
       "      <td>0</td>\n",
       "      <td>M5V1B7</td>\n",
       "      <td>RECENTLY_SOLD</td>\n",
       "      <td>False</td>\n",
       "      <td>False</td>\n",
       "      <td>CONDO</td>\n",
       "      <td>1.0</td>\n",
       "      <td>NaN</td>\n",
       "      <td>430000</td>\n",
       "      <td>Toronto</td>\n",
       "      <td>600 Fleet St #409</td>\n",
       "      <td>CAN</td>\n",
       "      <td>CAD</td>\n",
       "      <td>{}</td>\n",
       "      <td>NaN</td>\n",
       "    </tr>\n",
       "  </tbody>\n",
       "</table>\n",
       "</div>"
      ],
      "text/plain": [
       "   isShowcaseListing  longitude  timeOnZillow  zestimate  daysOnZillow  \\\n",
       "0              False        NaN  6.205267e+10        NaN           718   \n",
       "1              False -79.419914  8.036947e+10        NaN           930   \n",
       "2              False        NaN  8.131987e+10        NaN           941   \n",
       "3              False        NaN  8.563987e+10        NaN           991   \n",
       "4              False        NaN  6.205267e+10        NaN           718   \n",
       "\n",
       "         zpid  taxAssessedValue  isUnmappable  priceForHDP       dateSold  \\\n",
       "0  2071870830               NaN         False       430000  1650524400000   \n",
       "1  2068504642               NaN         False      1452000  1632207600000   \n",
       "2  2071852833               NaN         False       430000  1631257200000   \n",
       "3  2069940188               NaN         False      1300000  1626937200000   \n",
       "4  2071870830               NaN         False       430000  1650524400000   \n",
       "\n",
       "  state  isFeatured  isPremierBuilder  isPreforeclosureAuction  lotAreaValue  \\\n",
       "0    ON       False             False                    False           NaN   \n",
       "1    ON       False             False                    False           NaN   \n",
       "2    ON       False             False                    False           NaN   \n",
       "3    ON       False             False                    False           NaN   \n",
       "4    ON       False             False                    False           NaN   \n",
       "\n",
       "   isNonOwnerOccupied     homeStatus   latitude lotAreaUnit  bedrooms zipcode  \\\n",
       "0                True  RECENTLY_SOLD        NaN         NaN         0  M5V1B7   \n",
       "1                True  RECENTLY_SOLD  43.661144         NaN         0  M6G3H2   \n",
       "2                True  RECENTLY_SOLD        NaN         NaN         0  M5V1B7   \n",
       "3                True  RECENTLY_SOLD        NaN         NaN         0  N1S0A8   \n",
       "4                True  RECENTLY_SOLD        NaN         NaN         0  M5V1B7   \n",
       "\n",
       "  homeStatusForHDP  isZillowOwned  shouldHighlight       homeType  bathrooms  \\\n",
       "0    RECENTLY_SOLD          False            False          CONDO        1.0   \n",
       "1    RECENTLY_SOLD          False            False  SINGLE_FAMILY        1.0   \n",
       "2    RECENTLY_SOLD          False            False          CONDO        1.0   \n",
       "3    RECENTLY_SOLD          False            False  SINGLE_FAMILY        4.0   \n",
       "4    RECENTLY_SOLD          False            False          CONDO        1.0   \n",
       "\n",
       "   rentZestimate    price       city          streetAddress country currency  \\\n",
       "0            NaN   430000    Toronto      600 Fleet St #409     CAN      CAD   \n",
       "1            NaN  1452000    Toronto       429 Montrose Ave     CAN      CAD   \n",
       "2            NaN   430000    Toronto  600 Fleet St UNIT 232     CAN      CAD   \n",
       "3            NaN  1300000  Cambridge      386 Salisbury Ave     CAN      CAD   \n",
       "4            NaN   430000    Toronto      600 Fleet St #409     CAN      CAD   \n",
       "\n",
       "  listing_sub_type  livingArea  \n",
       "0               {}         NaN  \n",
       "1               {}       750.0  \n",
       "2               {}         NaN  \n",
       "3               {}         NaN  \n",
       "4               {}         NaN  "
      ]
     },
     "execution_count": 389,
     "metadata": {},
     "output_type": "execute_result"
    }
   ],
   "source": [
    "import pandas as pd\n",
    "from sklearn.model_selection import train_test_split\n",
    "from sklearn.preprocessing import StandardScaler\n",
    "import numpy as np\n",
    "import seaborn as sns \n",
    "import numpy as np \n",
    "import pandas as pd \n",
    "import matplotlib.pyplot as plt \n",
    "import seaborn as sns \n",
    "from scipy import stats\n",
    "from scipy.stats import norm, skew \n",
    "\n",
    "\n",
    "df = pd.read_csv('dataset3.csv')\n",
    "df.head()\n"
   ]
  },
  {
   "cell_type": "code",
   "execution_count": 390,
   "metadata": {},
   "outputs": [
    {
     "data": {
      "text/plain": [
       "homeStatusForHDP\n",
       "RECENTLY_SOLD    5042\n",
       "FOR_RENT           98\n",
       "FOR_SALE           80\n",
       "Name: count, dtype: int64"
      ]
     },
     "execution_count": 390,
     "metadata": {},
     "output_type": "execute_result"
    }
   ],
   "source": [
    "# df['homeStatus'].value_counts()\n",
    "df['homeStatusForHDP'].value_counts()"
   ]
  },
  {
   "cell_type": "code",
   "execution_count": 391,
   "metadata": {},
   "outputs": [
    {
     "name": "stdout",
     "output_type": "stream",
     "text": [
      "<class 'pandas.core.frame.DataFrame'>\n",
      "RangeIndex: 5220 entries, 0 to 5219\n",
      "Data columns (total 34 columns):\n",
      " #   Column                   Non-Null Count  Dtype  \n",
      "---  ------                   --------------  -----  \n",
      " 0   isShowcaseListing        5220 non-null   bool   \n",
      " 1   longitude                412 non-null    float64\n",
      " 2   timeOnZillow             5100 non-null   float64\n",
      " 3   zestimate                54 non-null     float64\n",
      " 4   daysOnZillow             5220 non-null   int64  \n",
      " 5   zpid                     5220 non-null   int64  \n",
      " 6   taxAssessedValue         54 non-null     float64\n",
      " 7   isUnmappable             5220 non-null   bool   \n",
      " 8   priceForHDP              5220 non-null   int64  \n",
      " 9   dateSold                 5220 non-null   int64  \n",
      " 10  state                    5220 non-null   object \n",
      " 11  isFeatured               5220 non-null   bool   \n",
      " 12  isPremierBuilder         5220 non-null   bool   \n",
      " 13  isPreforeclosureAuction  5220 non-null   bool   \n",
      " 14  lotAreaValue             1990 non-null   float64\n",
      " 15  isNonOwnerOccupied       5220 non-null   bool   \n",
      " 16  homeStatus               5220 non-null   object \n",
      " 17  latitude                 412 non-null    float64\n",
      " 18  lotAreaUnit              1990 non-null   object \n",
      " 19  bedrooms                 5220 non-null   int64  \n",
      " 20  zipcode                  5220 non-null   object \n",
      " 21  homeStatusForHDP         5220 non-null   object \n",
      " 22  isZillowOwned            5220 non-null   bool   \n",
      " 23  shouldHighlight          5220 non-null   bool   \n",
      " 24  homeType                 5220 non-null   object \n",
      " 25  bathrooms                5220 non-null   float64\n",
      " 26  rentZestimate            55 non-null     float64\n",
      " 27  price                    5220 non-null   int64  \n",
      " 28  city                     5220 non-null   object \n",
      " 29  streetAddress            5220 non-null   object \n",
      " 30  country                  5220 non-null   object \n",
      " 31  currency                 5220 non-null   object \n",
      " 32  listing_sub_type         5220 non-null   object \n",
      " 33  livingArea               1251 non-null   float64\n",
      "dtypes: bool(8), float64(9), int64(6), object(11)\n",
      "memory usage: 1.1+ MB\n"
     ]
    }
   ],
   "source": [
    "df.info()"
   ]
  },
  {
   "cell_type": "code",
   "execution_count": 392,
   "metadata": {},
   "outputs": [
    {
     "name": "stdout",
     "output_type": "stream",
     "text": [
      "isShowcaseListing             0\n",
      "longitude                  4808\n",
      "timeOnZillow                120\n",
      "zestimate                  5166\n",
      "daysOnZillow                  0\n",
      "zpid                          0\n",
      "taxAssessedValue           5166\n",
      "isUnmappable                  0\n",
      "priceForHDP                   0\n",
      "dateSold                      0\n",
      "state                         0\n",
      "isFeatured                    0\n",
      "isPremierBuilder              0\n",
      "isPreforeclosureAuction       0\n",
      "lotAreaValue               3230\n",
      "isNonOwnerOccupied            0\n",
      "homeStatus                    0\n",
      "latitude                   4808\n",
      "lotAreaUnit                3230\n",
      "bedrooms                      0\n",
      "zipcode                       0\n",
      "homeStatusForHDP              0\n",
      "isZillowOwned                 0\n",
      "shouldHighlight               0\n",
      "homeType                      0\n",
      "bathrooms                     0\n",
      "rentZestimate              5165\n",
      "price                         0\n",
      "city                          0\n",
      "streetAddress                 0\n",
      "country                       0\n",
      "currency                      0\n",
      "listing_sub_type              0\n",
      "livingArea                 3969\n",
      "dtype: int64\n"
     ]
    }
   ],
   "source": [
    "print(df.isnull().sum())"
   ]
  },
  {
   "cell_type": "markdown",
   "metadata": {},
   "source": [
    "# Data Preprocessing and Clean up"
   ]
  },
  {
   "cell_type": "markdown",
   "metadata": {},
   "source": [
    "## Removing columns\n",
    "Columns like state, homeStatus, lotAreaUnit, homeType, city, streetAddress, country, and currency are categorical and should be encoded to numerical values if you plan to use them in your model.\n"
   ]
  },
  {
   "cell_type": "code",
   "execution_count": 393,
   "metadata": {},
   "outputs": [
    {
     "name": "stdout",
     "output_type": "stream",
     "text": [
      "columns_with_many_missing: Index(['longitude', 'zestimate', 'taxAssessedValue', 'lotAreaValue',\n",
      "       'latitude', 'lotAreaUnit', 'rentZestimate', 'livingArea'],\n",
      "      dtype='object')\n",
      "Columns dropped: ['isPremierBuilder', 'isNonOwnerOccupied', 'isFeatured', 'country', 'homeStatus', 'isShowcaseListing', 'zpid', 'latitude', 'state', 'isPreforeclosureAuction', 'longitude', 'isZillowOwned', 'city', 'lotAreaUnit', 'isUnmappable', 'streetAddress', 'currency', 'lotAreaValue', 'rentZestimate', 'shouldHighlight', 'zestimate', 'livingArea', 'zipcode', 'listing_sub_type', 'homeStatusForHDP', 'taxAssessedValue']\n",
      "\n",
      "Remaining columns: ['timeOnZillow', 'daysOnZillow', 'priceForHDP', 'dateSold', 'bedrooms', 'homeType', 'bathrooms', 'price']\n"
     ]
    }
   ],
   "source": [
    "columns_with_many_missing = df.columns[df.isnull().mean() > 0.5]\n",
    "\n",
    "columns_with_low_predictive_power = [\n",
    "    'zpid', 'streetAddress', 'listing_sub_type', \n",
    "    'isUnmappable', 'isShowcaseListing', 'isFeatured', \n",
    "    'isPremierBuilder', 'isPreforeclosureAuction', \n",
    "    'isNonOwnerOccupied', 'isZillowOwned', 'shouldHighlight',\n",
    "    'city', 'streetAddress', 'country', 'currency', 'zpid', 'lotAreaUnit',\n",
    "    'homeStatusForHDP', 'homeStatus', 'state',\n",
    "     'zestimate', 'taxAssessedValue', 'rentZestimate',\n",
    "     'zipcode'\n",
    "]\n",
    "\n",
    "columns_to_drop = list(set(columns_with_many_missing.to_list() + columns_with_low_predictive_power))\n",
    "\n",
    "df_dropped = df.drop(columns=columns_to_drop)\n",
    "\n",
    "print(\"columns_with_many_missing:\", columns_with_many_missing)\n",
    "print(\"Columns dropped:\", columns_to_drop)\n",
    "print(\"\\nRemaining columns:\", df_dropped.columns.tolist())\n",
    "\n",
    "df_dropped.head()\n",
    "df = df_dropped\n"
   ]
  },
  {
   "cell_type": "markdown",
   "metadata": {},
   "source": [
    "## Categorical Data Encoding\n",
    "Since homeType is a categorical variable, we'll need to encode it to use it in most machine learning models, which require numerical input.\n",
    "\n",
    "One-Hot Encoding: This method converts the categorical variable into a series of binary columns, each representing a unique category. One-hot encoding is suitable when there is no ordinal relationship between the categories. Since homeType likely does not have a natural order, this method is appropriate."
   ]
  },
  {
   "cell_type": "code",
   "execution_count": 394,
   "metadata": {},
   "outputs": [
    {
     "data": {
      "text/plain": [
       "homeType\n",
       "SINGLE_FAMILY    3577\n",
       "CONDO             905\n",
       "APARTMENT         461\n",
       "TOWNHOUSE         222\n",
       "MULTI_FAMILY       55\n",
       "Name: count, dtype: int64"
      ]
     },
     "execution_count": 394,
     "metadata": {},
     "output_type": "execute_result"
    }
   ],
   "source": [
    "df['homeType'].value_counts()"
   ]
  },
  {
   "cell_type": "markdown",
   "metadata": {},
   "source": [
    "## Handling Sparse Categories\n",
    "Given the distribution of your homeType categories, it appears that MANUFACTURED, MULTI_FAMILY, and TOWNHOUSE categories are relatively sparse compared to the others. To clean up the homeType column and ensure your model remains robust, you could group these less frequent categories into an \"Other\" category. This approach simplifies your model while retaining the information these categories provide.\n"
   ]
  },
  {
   "cell_type": "code",
   "execution_count": 395,
   "metadata": {},
   "outputs": [
    {
     "name": "stdout",
     "output_type": "stream",
     "text": [
      "Index(['timeOnZillow', 'daysOnZillow', 'priceForHDP', 'dateSold', 'bedrooms',\n",
      "       'homeType', 'bathrooms', 'price'],\n",
      "      dtype='object')\n"
     ]
    }
   ],
   "source": [
    "print(df.columns)\n",
    "# print(type(df))\n",
    "# df['homeType'] = df['homeType'].replace(['MANUFACTURED', 'MULTI_FAMILY', 'TOWNHOUSE'], 'Other')\n",
    "\n",
    "# print(\"\\nNew distribution of 'homeType':\")\n",
    "# print(df['homeType'].value_counts())\n",
    "# print(type(df))\n",
    "\n"
   ]
  },
  {
   "cell_type": "code",
   "execution_count": 396,
   "metadata": {},
   "outputs": [],
   "source": [
    "from sklearn.preprocessing import OneHotEncoder\n",
    "import pandas as pd\n",
    "\n",
    "# Initializing the OneHotEncoder without specifying 'sparse'\n",
    "encoder = OneHotEncoder(drop='first')  # Assuming 'drop' argument is supported in your version\n",
    "\n",
    "# Fit and transform 'homeType' column\n",
    "homeType_encoded_sparse = encoder.fit_transform(df[['homeType']])\n",
    "\n",
    "# Convert the sparse matrix to a dense matrix and then to a DataFrame\n",
    "homeType_encoded_df = pd.DataFrame(homeType_encoded_sparse.toarray(), columns=encoder.get_feature_names_out(['homeType']))\n",
    "\n",
    "# Concatenate the encoded DataFrame back with the original DataFrame (excluding the original 'homeType' column)\n",
    "df_final = pd.concat([df.drop('homeType', axis=1), homeType_encoded_df], axis=1)\n",
    "df_final.columns\n",
    "df = df_final\n"
   ]
  },
  {
   "cell_type": "markdown",
   "metadata": {},
   "source": [
    "## Removing duplicates"
   ]
  },
  {
   "cell_type": "code",
   "execution_count": 397,
   "metadata": {},
   "outputs": [
    {
     "name": "stdout",
     "output_type": "stream",
     "text": [
      "Duplicates before: 857\n",
      "Duplicates after: 0\n",
      "Number of rows: 4363\n"
     ]
    }
   ],
   "source": [
    "# Check for duplicate rows\n",
    "print(\"Duplicates before:\", df.duplicated().sum())\n",
    "\n",
    "# Remove duplicate rows\n",
    "df_removed = df.drop_duplicates()\n",
    "\n",
    "# Check again to confirm removal\n",
    "print(\"Duplicates after:\", df_removed.duplicated().sum())\n",
    "\n",
    "print(\"Number of rows:\", len(df_removed))\n"
   ]
  },
  {
   "cell_type": "markdown",
   "metadata": {},
   "source": [
    "## Remove where price is 0"
   ]
  },
  {
   "cell_type": "code",
   "execution_count": 398,
   "metadata": {},
   "outputs": [
    {
     "name": "stdout",
     "output_type": "stream",
     "text": [
      "0\n",
      "0\n",
      "0\n",
      "------------\n",
      "0\n",
      "0\n",
      "0\n",
      "Number of rows: 5220\n"
     ]
    }
   ],
   "source": [
    "print((df['price'] == 0).sum())\n",
    "print((df['priceForHDP'] == 0).sum())\n",
    "print(((df['price'] == 0) & (df['priceForHDP'] != 0)).sum())\n",
    "df = df[df['price'] != 0]\n",
    "print('------------')\n",
    "print((df['price'] == 0).sum())\n",
    "print((df['priceForHDP'] == 0).sum())\n",
    "print(((df['price'] == 0) & (df['priceForHDP'] != 0)).sum())\n",
    "\n",
    "num_rows = df.shape[0]\n",
    "print(f\"Number of rows: {num_rows}\")\n"
   ]
  },
  {
   "cell_type": "markdown",
   "metadata": {},
   "source": [
    "# Exploratory Data Analysis (EDA) "
   ]
  },
  {
   "cell_type": "markdown",
   "metadata": {},
   "source": [
    "## Describe"
   ]
  },
  {
   "cell_type": "code",
   "execution_count": 399,
   "metadata": {},
   "outputs": [
    {
     "name": "stdout",
     "output_type": "stream",
     "text": [
      "       timeOnZillow  daysOnZillow   priceForHDP      dateSold     bedrooms  \\\n",
      "count  5.100000e+03   5220.000000  5.220000e+03  5.220000e+03  5220.000000   \n",
      "mean   6.292070e+10    711.285824  1.453326e+06  1.649496e+12     3.677011   \n",
      "std    1.816487e+10    234.787378  9.182242e+05  1.798583e+10     1.760276   \n",
      "min    2.004717e+09     -1.000000  1.575000e+03  1.617952e+12     0.000000   \n",
      "25%    5.306723e+10    609.000000  8.500000e+05  1.634886e+12     2.000000   \n",
      "50%    6.265758e+10    724.000000  1.275000e+06  1.649747e+12     4.000000   \n",
      "75%    7.838234e+10    899.000000  1.722500e+06  1.659424e+12     5.000000   \n",
      "max    9.462557e+10   1095.000000  5.200000e+06  1.710572e+12     8.000000   \n",
      "\n",
      "         bathrooms         price  homeType_CONDO  homeType_MULTI_FAMILY  \\\n",
      "count  5220.000000  5.220000e+03     5220.000000            5220.000000   \n",
      "mean      2.852586  1.474536e+06        0.173372               0.010536   \n",
      "std       1.376055  8.993992e+05        0.378605               0.102115   \n",
      "min       0.000000  1.600000e+03        0.000000               0.000000   \n",
      "25%       2.000000  8.737500e+05        0.000000               0.000000   \n",
      "50%       3.000000  1.279000e+06        0.000000               0.000000   \n",
      "75%       4.000000  1.749000e+06        0.000000               0.000000   \n",
      "max       8.000000  5.200000e+06        1.000000               1.000000   \n",
      "\n",
      "       homeType_SINGLE_FAMILY  homeType_TOWNHOUSE  \n",
      "count             5220.000000         5220.000000  \n",
      "mean                 0.685249            0.042529  \n",
      "std                  0.464461            0.201811  \n",
      "min                  0.000000            0.000000  \n",
      "25%                  0.000000            0.000000  \n",
      "50%                  1.000000            0.000000  \n",
      "75%                  1.000000            0.000000  \n",
      "max                  1.000000            1.000000  \n"
     ]
    }
   ],
   "source": [
    "# display basic descriptive statistics for numerical columns\n",
    "print(df.describe())\n"
   ]
  },
  {
   "cell_type": "markdown",
   "metadata": {},
   "source": [
    "## remove nan"
   ]
  },
  {
   "cell_type": "code",
   "execution_count": 400,
   "metadata": {},
   "outputs": [
    {
     "name": "stdout",
     "output_type": "stream",
     "text": [
      "Categorical columns:Index([], dtype='object')\n"
     ]
    }
   ],
   "source": [
    "categorical_columns = df.select_dtypes(include=['object', 'bool']).columns\n",
    "\n",
    "print(\"Categorical columns:\"+ str(categorical_columns))\n",
    "\n",
    "for column in categorical_columns:\n",
    "    print(f\"Value counts for {column}:\")\n",
    "    print(df[column].value_counts())\n",
    "    print(\"\\n\")"
   ]
  },
  {
   "cell_type": "code",
   "execution_count": 401,
   "metadata": {},
   "outputs": [
    {
     "name": "stdout",
     "output_type": "stream",
     "text": [
      "Number of columns with NaN values: 1\n",
      "Number of columns with NaN values: 1\n"
     ]
    }
   ],
   "source": [
    "# Count columns with NaN values\n",
    "nan_cols_count = df.columns[df.isna().any()].shape[0]\n",
    "print(f\"Number of columns with NaN values: {nan_cols_count}\")\n",
    "\n",
    "# Remove columns with NaN values\n",
    "df = df.dropna(axis=1)\n",
    "print(f\"Number of columns with NaN values: {nan_cols_count}\")\n"
   ]
  },
  {
   "cell_type": "markdown",
   "metadata": {},
   "source": [
    "# Training the Model\n",
    "Implementing a Linear Regression model and split the data into training and testing sets"
   ]
  },
  {
   "cell_type": "code",
   "execution_count": 402,
   "metadata": {},
   "outputs": [],
   "source": [
    "from sklearn.model_selection import train_test_split\n",
    "from sklearn.linear_model import LinearRegression\n",
    "from sklearn.metrics import mean_squared_error\n",
    "import numpy as np\n",
    "\n",
    "X = df.drop('price', axis=1)  \n",
    "y = df['price']  \n",
    "\n",
    "X_train, X_test, y_train, y_test = train_test_split(X, y, test_size=0.2, random_state=42)\n",
    "\n",
    "linear_model = LinearRegression()\n",
    "\n",
    "linear_model.fit(X_train, y_train)\n",
    "\n",
    "y_pred = linear_model.predict(X_test)\n"
   ]
  },
  {
   "cell_type": "markdown",
   "metadata": {},
   "source": [
    "## Evaluation "
   ]
  },
  {
   "cell_type": "code",
   "execution_count": 403,
   "metadata": {},
   "outputs": [
    {
     "name": "stdout",
     "output_type": "stream",
     "text": [
      "Root Mean Squared Error (RMSE) on Test Set: 174111.99950849963\n"
     ]
    }
   ],
   "source": [
    "# Evaluating the model using Root Mean Squared Error (RMSE)\n",
    "rmse = np.sqrt(mean_squared_error(y_test, y_pred))\n",
    "\n",
    "print(f\"Root Mean Squared Error (RMSE) on Test Set: {rmse}\")"
   ]
  },
  {
   "cell_type": "code",
   "execution_count": 404,
   "metadata": {},
   "outputs": [
    {
     "name": "stdout",
     "output_type": "stream",
     "text": [
      "R-squared (R2) on Test Set: 0.959728287571592\n"
     ]
    }
   ],
   "source": [
    "from sklearn.metrics import r2_score\n",
    "\n",
    "r_squared = r2_score(y_test, y_pred)\n",
    "\n",
    "print(f\"R-squared (R2) on Test Set: {r_squared}\")\n"
   ]
  },
  {
   "cell_type": "code",
   "execution_count": 405,
   "metadata": {},
   "outputs": [
    {
     "name": "stdout",
     "output_type": "stream",
     "text": [
      "461\n"
     ]
    }
   ],
   "source": [
    "# Get columns starting with 'homeType_'\n",
    "homeType_cols = [col for col in df.columns if 'homeType_' in col]\n",
    "\n",
    "# Count rows where all 'homeType_' columns are 0\n",
    "count = df[(df[homeType_cols] == 0).all(axis=1)].shape[0]\n",
    "\n",
    "print(count)"
   ]
  }
 ],
 "metadata": {
  "kernelspec": {
   "display_name": "USD",
   "language": "python",
   "name": "python3"
  },
  "language_info": {
   "codemirror_mode": {
    "name": "ipython",
    "version": 3
   },
   "file_extension": ".py",
   "mimetype": "text/x-python",
   "name": "python",
   "nbconvert_exporter": "python",
   "pygments_lexer": "ipython3",
   "version": "3.11.5"
  }
 },
 "nbformat": 4,
 "nbformat_minor": 2
}
