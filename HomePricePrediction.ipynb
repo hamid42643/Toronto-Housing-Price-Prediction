{
 "cells": [
  {
   "cell_type": "markdown",
   "metadata": {},
   "source": [
    "# Toronto Housing Price Prediction Model\n",
    "\n",
    "## Introduction\n",
    "This notebook details our efforts to develop a reliable housing price prediction model for the Toronto area. Given the absence of a robust model for this region, we utilized the Zillow API to gather data for training.\n",
    "\n",
    "## Data Collection\n",
    "Training data was acquired using the Zillow API (see `get-data/zillow.py` script). The dataset includes various features of homes recently sold, or available for sale in GTA area.\n",
    "\n",
    "## Preprocessing\n",
    "The dataset underwent significant preprocessing:\n",
    "- Removal of columns with excessive missing values or low predictive power.\n",
    "- Encoding of categorical variables such as `homeType` to numerical format suitable for modeling.\n",
    "- Removal of duplicate entries and entries with zero price.\n",
    "\n",
    "## Model Development\n",
    "Two models were developed and evaluated:\n",
    "1. **Linear Regression**\n",
    "2. **Random Forest**"
   ]
  },
  {
   "cell_type": "markdown",
   "metadata": {},
   "source": [
    "# Loading the Dataset"
   ]
  },
  {
   "cell_type": "code",
   "execution_count": 593,
   "metadata": {},
   "outputs": [],
   "source": [
    "import pandas as pd\n",
    "from sklearn.model_selection import train_test_split\n",
    "from sklearn.preprocessing import StandardScaler\n",
    "import numpy as np\n",
    "import seaborn as sns \n",
    "import numpy as np \n",
    "import pandas as pd \n",
    "import matplotlib.pyplot as plt \n",
    "import seaborn as sns \n",
    "from scipy import stats\n",
    "from scipy.stats import norm, skew \n",
    "\n",
    "def load_dataset(filename):\n",
    "    df = pd.read_csv(filename)\n",
    "    return df\n",
    "df = load_dataset(\"zillow_homes_sold_toronto.csv\")\n",
    "\n"
   ]
  },
  {
   "cell_type": "code",
   "execution_count": 594,
   "metadata": {},
   "outputs": [
    {
     "data": {
      "text/plain": [
       "homeStatusForHDP\n",
       "RECENTLY_SOLD    5042\n",
       "FOR_RENT           98\n",
       "FOR_SALE           80\n",
       "Name: count, dtype: int64"
      ]
     },
     "execution_count": 594,
     "metadata": {},
     "output_type": "execute_result"
    }
   ],
   "source": [
    "df['homeStatusForHDP'].value_counts()"
   ]
  },
  {
   "cell_type": "code",
   "execution_count": 595,
   "metadata": {},
   "outputs": [
    {
     "name": "stdout",
     "output_type": "stream",
     "text": [
      "<class 'pandas.core.frame.DataFrame'>\n",
      "RangeIndex: 5220 entries, 0 to 5219\n",
      "Data columns (total 34 columns):\n",
      " #   Column                   Non-Null Count  Dtype  \n",
      "---  ------                   --------------  -----  \n",
      " 0   isShowcaseListing        5220 non-null   bool   \n",
      " 1   longitude                412 non-null    float64\n",
      " 2   timeOnZillow             5100 non-null   float64\n",
      " 3   zestimate                54 non-null     float64\n",
      " 4   daysOnZillow             5220 non-null   int64  \n",
      " 5   zpid                     5220 non-null   int64  \n",
      " 6   taxAssessedValue         54 non-null     float64\n",
      " 7   isUnmappable             5220 non-null   bool   \n",
      " 8   priceForHDP              5220 non-null   int64  \n",
      " 9   dateSold                 5220 non-null   int64  \n",
      " 10  state                    5220 non-null   object \n",
      " 11  isFeatured               5220 non-null   bool   \n",
      " 12  isPremierBuilder         5220 non-null   bool   \n",
      " 13  isPreforeclosureAuction  5220 non-null   bool   \n",
      " 14  lotAreaValue             1990 non-null   float64\n",
      " 15  isNonOwnerOccupied       5220 non-null   bool   \n",
      " 16  homeStatus               5220 non-null   object \n",
      " 17  latitude                 412 non-null    float64\n",
      " 18  lotAreaUnit              1990 non-null   object \n",
      " 19  bedrooms                 5220 non-null   int64  \n",
      " 20  zipcode                  5220 non-null   object \n",
      " 21  homeStatusForHDP         5220 non-null   object \n",
      " 22  isZillowOwned            5220 non-null   bool   \n",
      " 23  shouldHighlight          5220 non-null   bool   \n",
      " 24  homeType                 5220 non-null   object \n",
      " 25  bathrooms                5220 non-null   float64\n",
      " 26  rentZestimate            55 non-null     float64\n",
      " 27  price                    5220 non-null   int64  \n",
      " 28  city                     5220 non-null   object \n",
      " 29  streetAddress            5220 non-null   object \n",
      " 30  country                  5220 non-null   object \n",
      " 31  currency                 5220 non-null   object \n",
      " 32  listing_sub_type         5220 non-null   object \n",
      " 33  livingArea               1251 non-null   float64\n",
      "dtypes: bool(8), float64(9), int64(6), object(11)\n",
      "memory usage: 1.1+ MB\n"
     ]
    }
   ],
   "source": [
    "df.info()"
   ]
  },
  {
   "cell_type": "code",
   "execution_count": 596,
   "metadata": {},
   "outputs": [
    {
     "name": "stdout",
     "output_type": "stream",
     "text": [
      "isShowcaseListing             0\n",
      "longitude                  4808\n",
      "timeOnZillow                120\n",
      "zestimate                  5166\n",
      "daysOnZillow                  0\n",
      "zpid                          0\n",
      "taxAssessedValue           5166\n",
      "isUnmappable                  0\n",
      "priceForHDP                   0\n",
      "dateSold                      0\n",
      "state                         0\n",
      "isFeatured                    0\n",
      "isPremierBuilder              0\n",
      "isPreforeclosureAuction       0\n",
      "lotAreaValue               3230\n",
      "isNonOwnerOccupied            0\n",
      "homeStatus                    0\n",
      "latitude                   4808\n",
      "lotAreaUnit                3230\n",
      "bedrooms                      0\n",
      "zipcode                       0\n",
      "homeStatusForHDP              0\n",
      "isZillowOwned                 0\n",
      "shouldHighlight               0\n",
      "homeType                      0\n",
      "bathrooms                     0\n",
      "rentZestimate              5165\n",
      "price                         0\n",
      "city                          0\n",
      "streetAddress                 0\n",
      "country                       0\n",
      "currency                      0\n",
      "listing_sub_type              0\n",
      "livingArea                 3969\n",
      "dtype: int64\n"
     ]
    }
   ],
   "source": [
    "print(df.isnull().sum())"
   ]
  },
  {
   "cell_type": "markdown",
   "metadata": {},
   "source": [
    "# Data Preprocessing and Clean up"
   ]
  },
  {
   "cell_type": "markdown",
   "metadata": {},
   "source": [
    "## Removing columns\n",
    "Columns like state, homeStatus, lotAreaUnit, homeType, city, streetAddress, country, and currency are categorical and should be encoded to numerical values if you plan to use them in your model.\n"
   ]
  },
  {
   "cell_type": "code",
   "execution_count": 597,
   "metadata": {},
   "outputs": [
    {
     "name": "stdout",
     "output_type": "stream",
     "text": [
      "Number of rows: 5220\n",
      "columns_with_many_missing: Index([], dtype='object')\n",
      "Columns dropped: ['currency', 'lotAreaUnit', 'isPreforeclosureAuction', 'zpid', 'priceForHDP', 'country', 'dateSold', 'isFeatured', 'isPremierBuilder', 'listing_sub_type', 'isShowcaseListing', 'shouldHighlight', 'isNonOwnerOccupied', 'streetAddress', 'homeStatusForHDP', 'homeStatus', 'taxAssessedValue', 'isUnmappable', 'zipcode', 'rentZestimate', 'isZillowOwned', 'city', 'state', 'zestimate']\n",
      "\n",
      "Remaining columns: ['longitude', 'timeOnZillow', 'daysOnZillow', 'lotAreaValue', 'latitude', 'bedrooms', 'homeType', 'bathrooms', 'price', 'livingArea']\n"
     ]
    }
   ],
   "source": [
    "def drop_columns(df):\n",
    "    columns_with_many_missing = df.columns[df.isnull().mean() > .99]\n",
    "    columns_with_low_predictive_power = [\n",
    "        'zpid', 'streetAddress', 'listing_sub_type', \n",
    "        'isUnmappable', 'isShowcaseListing', 'isFeatured', \n",
    "        'isPremierBuilder', 'isPreforeclosureAuction', \n",
    "        'isNonOwnerOccupied', 'isZillowOwned', 'shouldHighlight',\n",
    "        'city', 'streetAddress', 'country', 'currency', 'zpid', 'lotAreaUnit',\n",
    "        'homeStatusForHDP', 'homeStatus', 'state',\n",
    "        'zestimate', 'taxAssessedValue', 'rentZestimate',\n",
    "        'zipcode',\n",
    "        'dateSold',\n",
    "        'priceForHDP',\n",
    "        # 'daysOnZillow'\n",
    "    ]\n",
    "\n",
    "    columns_to_drop = list(set(columns_with_many_missing.to_list() + columns_with_low_predictive_power))\n",
    "\n",
    "    df_dropped = df.drop(columns=columns_to_drop)\n",
    "\n",
    "    print(f\"Number of rows: {df.shape[0]}\")\n",
    "    print(\"columns_with_many_missing:\", columns_with_many_missing)\n",
    "    print(\"Columns dropped:\", columns_to_drop)\n",
    "    print(\"\\nRemaining columns:\", df_dropped.columns.tolist())\n",
    "\n",
    "    df_dropped.head()\n",
    "    return df_dropped\n",
    "\n",
    "df = drop_columns(df)"
   ]
  },
  {
   "cell_type": "markdown",
   "metadata": {},
   "source": [
    "## Categorical Data Encoding\n",
    "Since homeType is a categorical variable, we'll need to encode it to use it in most machine learning models, which require numerical input.\n",
    "\n",
    "One-Hot Encoding: This method converts the categorical variable into a series of binary columns, each representing a unique category. One-hot encoding is suitable when there is no ordinal relationship between the categories. Since homeType likely does not have a natural order, this method is appropriate."
   ]
  },
  {
   "cell_type": "code",
   "execution_count": 598,
   "metadata": {},
   "outputs": [
    {
     "data": {
      "text/plain": [
       "homeType\n",
       "SINGLE_FAMILY    3577\n",
       "CONDO             905\n",
       "APARTMENT         461\n",
       "TOWNHOUSE         222\n",
       "MULTI_FAMILY       55\n",
       "Name: count, dtype: int64"
      ]
     },
     "execution_count": 598,
     "metadata": {},
     "output_type": "execute_result"
    }
   ],
   "source": [
    "df['homeType'].value_counts()"
   ]
  },
  {
   "cell_type": "markdown",
   "metadata": {},
   "source": [
    "## Using One-hot encoding on HomeType\n",
    "Many machine learning algorithms including Linear Regression and Random Forest are designed to work primarily with numerical data, making it challenging to directly incorporate categorical data (such as text labels) into models. One-hot encoding transforms these categorical labels into a numeric format by creating new binary columns for each category. For example, if the original data column has categories like Condo, Townhouse, and Single Family, one-hot encoding converts this into three separate binary columns (e.g., Condo, Townhouse, Single Family), where each property is marked with a 1 under the column of its category and 0s under all others. This numerical transformation allows algorithms to perform operations like calculation of splits in decision trees or coefficients in regression models, which wouldn't be directly possible with non-numeric data."
   ]
  },
  {
   "cell_type": "code",
   "execution_count": 599,
   "metadata": {},
   "outputs": [
    {
     "name": "stdout",
     "output_type": "stream",
     "text": [
      "Index(['longitude', 'timeOnZillow', 'daysOnZillow', 'lotAreaValue', 'latitude',\n",
      "       'bedrooms', 'homeType', 'bathrooms', 'price', 'livingArea'],\n",
      "      dtype='object')\n",
      "5220\n"
     ]
    },
    {
     "data": {
      "text/html": [
       "<div>\n",
       "<style scoped>\n",
       "    .dataframe tbody tr th:only-of-type {\n",
       "        vertical-align: middle;\n",
       "    }\n",
       "\n",
       "    .dataframe tbody tr th {\n",
       "        vertical-align: top;\n",
       "    }\n",
       "\n",
       "    .dataframe thead th {\n",
       "        text-align: right;\n",
       "    }\n",
       "</style>\n",
       "<table border=\"1\" class=\"dataframe\">\n",
       "  <thead>\n",
       "    <tr style=\"text-align: right;\">\n",
       "      <th></th>\n",
       "      <th>longitude</th>\n",
       "      <th>timeOnZillow</th>\n",
       "      <th>daysOnZillow</th>\n",
       "      <th>lotAreaValue</th>\n",
       "      <th>latitude</th>\n",
       "      <th>bedrooms</th>\n",
       "      <th>homeType</th>\n",
       "      <th>bathrooms</th>\n",
       "      <th>price</th>\n",
       "      <th>livingArea</th>\n",
       "    </tr>\n",
       "  </thead>\n",
       "  <tbody>\n",
       "    <tr>\n",
       "      <th>0</th>\n",
       "      <td>NaN</td>\n",
       "      <td>6.205267e+10</td>\n",
       "      <td>718</td>\n",
       "      <td>NaN</td>\n",
       "      <td>NaN</td>\n",
       "      <td>0</td>\n",
       "      <td>CONDO</td>\n",
       "      <td>1.0</td>\n",
       "      <td>430000</td>\n",
       "      <td>NaN</td>\n",
       "    </tr>\n",
       "    <tr>\n",
       "      <th>1</th>\n",
       "      <td>-79.419914</td>\n",
       "      <td>8.036947e+10</td>\n",
       "      <td>930</td>\n",
       "      <td>NaN</td>\n",
       "      <td>43.661144</td>\n",
       "      <td>0</td>\n",
       "      <td>SINGLE_FAMILY</td>\n",
       "      <td>1.0</td>\n",
       "      <td>1452000</td>\n",
       "      <td>750.0</td>\n",
       "    </tr>\n",
       "    <tr>\n",
       "      <th>2</th>\n",
       "      <td>NaN</td>\n",
       "      <td>8.131987e+10</td>\n",
       "      <td>941</td>\n",
       "      <td>NaN</td>\n",
       "      <td>NaN</td>\n",
       "      <td>0</td>\n",
       "      <td>CONDO</td>\n",
       "      <td>1.0</td>\n",
       "      <td>430000</td>\n",
       "      <td>NaN</td>\n",
       "    </tr>\n",
       "    <tr>\n",
       "      <th>3</th>\n",
       "      <td>NaN</td>\n",
       "      <td>8.563987e+10</td>\n",
       "      <td>991</td>\n",
       "      <td>NaN</td>\n",
       "      <td>NaN</td>\n",
       "      <td>0</td>\n",
       "      <td>SINGLE_FAMILY</td>\n",
       "      <td>4.0</td>\n",
       "      <td>1300000</td>\n",
       "      <td>NaN</td>\n",
       "    </tr>\n",
       "    <tr>\n",
       "      <th>4</th>\n",
       "      <td>NaN</td>\n",
       "      <td>6.205267e+10</td>\n",
       "      <td>718</td>\n",
       "      <td>NaN</td>\n",
       "      <td>NaN</td>\n",
       "      <td>0</td>\n",
       "      <td>CONDO</td>\n",
       "      <td>1.0</td>\n",
       "      <td>430000</td>\n",
       "      <td>NaN</td>\n",
       "    </tr>\n",
       "  </tbody>\n",
       "</table>\n",
       "</div>"
      ],
      "text/plain": [
       "   longitude  timeOnZillow  daysOnZillow  lotAreaValue   latitude  bedrooms  \\\n",
       "0        NaN  6.205267e+10           718           NaN        NaN         0   \n",
       "1 -79.419914  8.036947e+10           930           NaN  43.661144         0   \n",
       "2        NaN  8.131987e+10           941           NaN        NaN         0   \n",
       "3        NaN  8.563987e+10           991           NaN        NaN         0   \n",
       "4        NaN  6.205267e+10           718           NaN        NaN         0   \n",
       "\n",
       "        homeType  bathrooms    price  livingArea  \n",
       "0          CONDO        1.0   430000         NaN  \n",
       "1  SINGLE_FAMILY        1.0  1452000       750.0  \n",
       "2          CONDO        1.0   430000         NaN  \n",
       "3  SINGLE_FAMILY        4.0  1300000         NaN  \n",
       "4          CONDO        1.0   430000         NaN  "
      ]
     },
     "execution_count": 599,
     "metadata": {},
     "output_type": "execute_result"
    }
   ],
   "source": [
    "print(df.columns)\n",
    "print(df.shape[0])\n",
    "df.head()\n",
    "\n"
   ]
  },
  {
   "cell_type": "code",
   "execution_count": 600,
   "metadata": {},
   "outputs": [
    {
     "name": "stdout",
     "output_type": "stream",
     "text": [
      "Number of rows: 5220\n",
      "5220\n"
     ]
    },
    {
     "data": {
      "text/html": [
       "<div>\n",
       "<style scoped>\n",
       "    .dataframe tbody tr th:only-of-type {\n",
       "        vertical-align: middle;\n",
       "    }\n",
       "\n",
       "    .dataframe tbody tr th {\n",
       "        vertical-align: top;\n",
       "    }\n",
       "\n",
       "    .dataframe thead th {\n",
       "        text-align: right;\n",
       "    }\n",
       "</style>\n",
       "<table border=\"1\" class=\"dataframe\">\n",
       "  <thead>\n",
       "    <tr style=\"text-align: right;\">\n",
       "      <th></th>\n",
       "      <th>longitude</th>\n",
       "      <th>timeOnZillow</th>\n",
       "      <th>daysOnZillow</th>\n",
       "      <th>lotAreaValue</th>\n",
       "      <th>latitude</th>\n",
       "      <th>bedrooms</th>\n",
       "      <th>bathrooms</th>\n",
       "      <th>price</th>\n",
       "      <th>livingArea</th>\n",
       "      <th>homeType_CONDO</th>\n",
       "      <th>homeType_MULTI_FAMILY</th>\n",
       "      <th>homeType_SINGLE_FAMILY</th>\n",
       "      <th>homeType_TOWNHOUSE</th>\n",
       "    </tr>\n",
       "  </thead>\n",
       "  <tbody>\n",
       "    <tr>\n",
       "      <th>0</th>\n",
       "      <td>NaN</td>\n",
       "      <td>6.205267e+10</td>\n",
       "      <td>718</td>\n",
       "      <td>NaN</td>\n",
       "      <td>NaN</td>\n",
       "      <td>0</td>\n",
       "      <td>1.0</td>\n",
       "      <td>430000</td>\n",
       "      <td>NaN</td>\n",
       "      <td>1.0</td>\n",
       "      <td>0.0</td>\n",
       "      <td>0.0</td>\n",
       "      <td>0.0</td>\n",
       "    </tr>\n",
       "    <tr>\n",
       "      <th>1</th>\n",
       "      <td>-79.419914</td>\n",
       "      <td>8.036947e+10</td>\n",
       "      <td>930</td>\n",
       "      <td>NaN</td>\n",
       "      <td>43.661144</td>\n",
       "      <td>0</td>\n",
       "      <td>1.0</td>\n",
       "      <td>1452000</td>\n",
       "      <td>750.0</td>\n",
       "      <td>0.0</td>\n",
       "      <td>0.0</td>\n",
       "      <td>1.0</td>\n",
       "      <td>0.0</td>\n",
       "    </tr>\n",
       "    <tr>\n",
       "      <th>2</th>\n",
       "      <td>NaN</td>\n",
       "      <td>8.131987e+10</td>\n",
       "      <td>941</td>\n",
       "      <td>NaN</td>\n",
       "      <td>NaN</td>\n",
       "      <td>0</td>\n",
       "      <td>1.0</td>\n",
       "      <td>430000</td>\n",
       "      <td>NaN</td>\n",
       "      <td>1.0</td>\n",
       "      <td>0.0</td>\n",
       "      <td>0.0</td>\n",
       "      <td>0.0</td>\n",
       "    </tr>\n",
       "    <tr>\n",
       "      <th>3</th>\n",
       "      <td>NaN</td>\n",
       "      <td>8.563987e+10</td>\n",
       "      <td>991</td>\n",
       "      <td>NaN</td>\n",
       "      <td>NaN</td>\n",
       "      <td>0</td>\n",
       "      <td>4.0</td>\n",
       "      <td>1300000</td>\n",
       "      <td>NaN</td>\n",
       "      <td>0.0</td>\n",
       "      <td>0.0</td>\n",
       "      <td>1.0</td>\n",
       "      <td>0.0</td>\n",
       "    </tr>\n",
       "    <tr>\n",
       "      <th>4</th>\n",
       "      <td>NaN</td>\n",
       "      <td>6.205267e+10</td>\n",
       "      <td>718</td>\n",
       "      <td>NaN</td>\n",
       "      <td>NaN</td>\n",
       "      <td>0</td>\n",
       "      <td>1.0</td>\n",
       "      <td>430000</td>\n",
       "      <td>NaN</td>\n",
       "      <td>1.0</td>\n",
       "      <td>0.0</td>\n",
       "      <td>0.0</td>\n",
       "      <td>0.0</td>\n",
       "    </tr>\n",
       "  </tbody>\n",
       "</table>\n",
       "</div>"
      ],
      "text/plain": [
       "   longitude  timeOnZillow  daysOnZillow  lotAreaValue   latitude  bedrooms  \\\n",
       "0        NaN  6.205267e+10           718           NaN        NaN         0   \n",
       "1 -79.419914  8.036947e+10           930           NaN  43.661144         0   \n",
       "2        NaN  8.131987e+10           941           NaN        NaN         0   \n",
       "3        NaN  8.563987e+10           991           NaN        NaN         0   \n",
       "4        NaN  6.205267e+10           718           NaN        NaN         0   \n",
       "\n",
       "   bathrooms    price  livingArea  homeType_CONDO  homeType_MULTI_FAMILY  \\\n",
       "0        1.0   430000         NaN             1.0                    0.0   \n",
       "1        1.0  1452000       750.0             0.0                    0.0   \n",
       "2        1.0   430000         NaN             1.0                    0.0   \n",
       "3        4.0  1300000         NaN             0.0                    0.0   \n",
       "4        1.0   430000         NaN             1.0                    0.0   \n",
       "\n",
       "   homeType_SINGLE_FAMILY  homeType_TOWNHOUSE  \n",
       "0                     0.0                 0.0  \n",
       "1                     1.0                 0.0  \n",
       "2                     0.0                 0.0  \n",
       "3                     1.0                 0.0  \n",
       "4                     0.0                 0.0  "
      ]
     },
     "execution_count": 600,
     "metadata": {},
     "output_type": "execute_result"
    }
   ],
   "source": [
    "def encode_homeType(df):\n",
    "    from sklearn.preprocessing import OneHotEncoder\n",
    "\n",
    "    encoder = OneHotEncoder(drop='first')\n",
    "\n",
    "    homeType_encoded_sparse = encoder.fit_transform(df[['homeType']])\n",
    "\n",
    "    homeType_encoded_df = pd.DataFrame(homeType_encoded_sparse.toarray(), columns=encoder.get_feature_names_out(['homeType']))\n",
    "    \n",
    "    df_final = pd.concat([df.drop('homeType', axis=1), homeType_encoded_df], axis=1)\n",
    "\n",
    "    print(f\"Number of rows: {df_final.shape[0]}\")\n",
    "    df_final.head()\n",
    "    return df_final\n",
    "\n",
    "df = encode_homeType(df)\n",
    "print(df.shape[0])\n",
    "df.head()"
   ]
  },
  {
   "cell_type": "markdown",
   "metadata": {},
   "source": [
    "## Removing duplicates"
   ]
  },
  {
   "cell_type": "code",
   "execution_count": 601,
   "metadata": {},
   "outputs": [
    {
     "name": "stdout",
     "output_type": "stream",
     "text": [
      "Duplicates before: 857\n",
      "Duplicates after: 0\n",
      "Number of rows: 4363\n"
     ]
    }
   ],
   "source": [
    "def remove_duplicates(df):\n",
    "    print(\"Duplicates before:\", df.duplicated().sum())\n",
    "\n",
    "    df_removed = df.drop_duplicates()\n",
    "\n",
    "    print(\"Duplicates after:\", df_removed.duplicated().sum())\n",
    "\n",
    "    print(\"Number of rows:\", len(df_removed))\n",
    "    df_removed.head()\n",
    "    return df_removed\n",
    "\n",
    "df = remove_duplicates(df)"
   ]
  },
  {
   "cell_type": "markdown",
   "metadata": {},
   "source": [
    "# Exploratory Data Analysis (EDA) "
   ]
  },
  {
   "cell_type": "markdown",
   "metadata": {},
   "source": [
    "## Describe"
   ]
  },
  {
   "cell_type": "code",
   "execution_count": 602,
   "metadata": {},
   "outputs": [
    {
     "name": "stdout",
     "output_type": "stream",
     "text": [
      "        longitude  timeOnZillow  daysOnZillow  lotAreaValue    latitude  \\\n",
      "count  355.000000  4.357000e+03   4363.000000   1496.000000  355.000000   \n",
      "mean   -79.400171  6.187088e+10    714.909008   3913.129733   43.919090   \n",
      "std      0.714517  1.791425e+10    208.894836   2488.899417    0.437308   \n",
      "min    -81.625465  2.004717e+09     -1.000000      0.000000   42.968273   \n",
      "25%    -79.784454  5.298072e+10    609.000000   2330.000000   43.667984   \n",
      "50%    -79.419914  6.222551e+10    720.000000   3234.000000   43.777637   \n",
      "75%    -79.351850  7.458072e+10    859.500000   5445.000000   44.275513   \n",
      "max    -77.059010  9.462557e+10   1095.000000  10419.000000   44.741947   \n",
      "\n",
      "          bedrooms    bathrooms         price   livingArea  homeType_CONDO  \\\n",
      "count  4363.000000  4363.000000  4.363000e+03   908.000000     4363.000000   \n",
      "mean      3.316755     2.675338  1.402629e+06  2190.943833        0.203071   \n",
      "std       1.664849     1.339355  8.614329e+05  1090.422818        0.402331   \n",
      "min       0.000000     0.000000  1.600000e+03   368.000000        0.000000   \n",
      "25%       2.000000     2.000000  8.311000e+05  1471.000000        0.000000   \n",
      "50%       3.000000     2.000000  1.250000e+06  1980.000000        0.000000   \n",
      "75%       5.000000     4.000000  1.650000e+06  2825.000000        0.000000   \n",
      "max       8.000000     8.000000  5.200000e+06  6534.000000        1.000000   \n",
      "\n",
      "       homeType_MULTI_FAMILY  homeType_SINGLE_FAMILY  homeType_TOWNHOUSE  \n",
      "count            4363.000000             4363.000000         4363.000000  \n",
      "mean                0.012606                0.627779            0.050882  \n",
      "std                 0.111579                0.483452            0.219783  \n",
      "min                 0.000000                0.000000            0.000000  \n",
      "25%                 0.000000                0.000000            0.000000  \n",
      "50%                 0.000000                1.000000            0.000000  \n",
      "75%                 0.000000                1.000000            0.000000  \n",
      "max                 1.000000                1.000000            1.000000  \n",
      "Number of rows: 4363\n"
     ]
    },
    {
     "data": {
      "text/html": [
       "<div>\n",
       "<style scoped>\n",
       "    .dataframe tbody tr th:only-of-type {\n",
       "        vertical-align: middle;\n",
       "    }\n",
       "\n",
       "    .dataframe tbody tr th {\n",
       "        vertical-align: top;\n",
       "    }\n",
       "\n",
       "    .dataframe thead th {\n",
       "        text-align: right;\n",
       "    }\n",
       "</style>\n",
       "<table border=\"1\" class=\"dataframe\">\n",
       "  <thead>\n",
       "    <tr style=\"text-align: right;\">\n",
       "      <th></th>\n",
       "      <th>longitude</th>\n",
       "      <th>timeOnZillow</th>\n",
       "      <th>daysOnZillow</th>\n",
       "      <th>lotAreaValue</th>\n",
       "      <th>latitude</th>\n",
       "      <th>bedrooms</th>\n",
       "      <th>bathrooms</th>\n",
       "      <th>price</th>\n",
       "      <th>livingArea</th>\n",
       "      <th>homeType_CONDO</th>\n",
       "      <th>homeType_MULTI_FAMILY</th>\n",
       "      <th>homeType_SINGLE_FAMILY</th>\n",
       "      <th>homeType_TOWNHOUSE</th>\n",
       "    </tr>\n",
       "  </thead>\n",
       "  <tbody>\n",
       "    <tr>\n",
       "      <th>0</th>\n",
       "      <td>NaN</td>\n",
       "      <td>6.205267e+10</td>\n",
       "      <td>718</td>\n",
       "      <td>NaN</td>\n",
       "      <td>NaN</td>\n",
       "      <td>0</td>\n",
       "      <td>1.0</td>\n",
       "      <td>430000</td>\n",
       "      <td>NaN</td>\n",
       "      <td>1.0</td>\n",
       "      <td>0.0</td>\n",
       "      <td>0.0</td>\n",
       "      <td>0.0</td>\n",
       "    </tr>\n",
       "    <tr>\n",
       "      <th>1</th>\n",
       "      <td>-79.419914</td>\n",
       "      <td>8.036947e+10</td>\n",
       "      <td>930</td>\n",
       "      <td>NaN</td>\n",
       "      <td>43.661144</td>\n",
       "      <td>0</td>\n",
       "      <td>1.0</td>\n",
       "      <td>1452000</td>\n",
       "      <td>750.0</td>\n",
       "      <td>0.0</td>\n",
       "      <td>0.0</td>\n",
       "      <td>1.0</td>\n",
       "      <td>0.0</td>\n",
       "    </tr>\n",
       "    <tr>\n",
       "      <th>2</th>\n",
       "      <td>NaN</td>\n",
       "      <td>8.131987e+10</td>\n",
       "      <td>941</td>\n",
       "      <td>NaN</td>\n",
       "      <td>NaN</td>\n",
       "      <td>0</td>\n",
       "      <td>1.0</td>\n",
       "      <td>430000</td>\n",
       "      <td>NaN</td>\n",
       "      <td>1.0</td>\n",
       "      <td>0.0</td>\n",
       "      <td>0.0</td>\n",
       "      <td>0.0</td>\n",
       "    </tr>\n",
       "    <tr>\n",
       "      <th>3</th>\n",
       "      <td>NaN</td>\n",
       "      <td>8.563987e+10</td>\n",
       "      <td>991</td>\n",
       "      <td>NaN</td>\n",
       "      <td>NaN</td>\n",
       "      <td>0</td>\n",
       "      <td>4.0</td>\n",
       "      <td>1300000</td>\n",
       "      <td>NaN</td>\n",
       "      <td>0.0</td>\n",
       "      <td>0.0</td>\n",
       "      <td>1.0</td>\n",
       "      <td>0.0</td>\n",
       "    </tr>\n",
       "    <tr>\n",
       "      <th>4</th>\n",
       "      <td>NaN</td>\n",
       "      <td>6.205267e+10</td>\n",
       "      <td>718</td>\n",
       "      <td>NaN</td>\n",
       "      <td>NaN</td>\n",
       "      <td>0</td>\n",
       "      <td>1.0</td>\n",
       "      <td>430000</td>\n",
       "      <td>NaN</td>\n",
       "      <td>1.0</td>\n",
       "      <td>0.0</td>\n",
       "      <td>0.0</td>\n",
       "      <td>0.0</td>\n",
       "    </tr>\n",
       "  </tbody>\n",
       "</table>\n",
       "</div>"
      ],
      "text/plain": [
       "   longitude  timeOnZillow  daysOnZillow  lotAreaValue   latitude  bedrooms  \\\n",
       "0        NaN  6.205267e+10           718           NaN        NaN         0   \n",
       "1 -79.419914  8.036947e+10           930           NaN  43.661144         0   \n",
       "2        NaN  8.131987e+10           941           NaN        NaN         0   \n",
       "3        NaN  8.563987e+10           991           NaN        NaN         0   \n",
       "4        NaN  6.205267e+10           718           NaN        NaN         0   \n",
       "\n",
       "   bathrooms    price  livingArea  homeType_CONDO  homeType_MULTI_FAMILY  \\\n",
       "0        1.0   430000         NaN             1.0                    0.0   \n",
       "1        1.0  1452000       750.0             0.0                    0.0   \n",
       "2        1.0   430000         NaN             1.0                    0.0   \n",
       "3        4.0  1300000         NaN             0.0                    0.0   \n",
       "4        1.0   430000         NaN             1.0                    0.0   \n",
       "\n",
       "   homeType_SINGLE_FAMILY  homeType_TOWNHOUSE  \n",
       "0                     0.0                 0.0  \n",
       "1                     1.0                 0.0  \n",
       "2                     0.0                 0.0  \n",
       "3                     1.0                 0.0  \n",
       "4                     0.0                 0.0  "
      ]
     },
     "execution_count": 602,
     "metadata": {},
     "output_type": "execute_result"
    }
   ],
   "source": [
    "# display basic descriptive statistics for numerical columns\n",
    "print(df.describe())\n",
    "# df.describe().style.format(\"{:.2f}\")\n",
    "print(f\"Number of rows: {df.shape[0]}\")\n",
    "\n",
    "df.head()\n"
   ]
  },
  {
   "cell_type": "markdown",
   "metadata": {},
   "source": [
    "## Coorelation Matrix"
   ]
  },
  {
   "cell_type": "code",
   "execution_count": 603,
   "metadata": {},
   "outputs": [
    {
     "data": {
      "image/png": "[encoded data removed]",
      "text/plain": [
       "<Figure size 800x800 with 1 Axes>"
      ]
     },
     "metadata": {},
     "output_type": "display_data"
    }
   ],
   "source": [
    "# this function is adopted from https://www.kaggle.com/code/shtrausslearning/bayesian-regression-house-price-prediction/notebook\n",
    "\n",
    "def corrMat(df,id=False):\n",
    "    corr_mat = df.corr().round(2)\n",
    "    f, ax = plt.subplots(figsize=(8,8))\n",
    "    # mask = np.zeros_like(corr_mat,dtype=np.bool)\n",
    "    mask = np.zeros_like(corr_mat, dtype=bool)\n",
    "    mask[np.triu_indices_from(mask)] = True\n",
    "    sns.heatmap(corr_mat,mask=mask,vmin=-1,vmax=1,center=0, \n",
    "                cmap='plasma',square=False,lw=2,annot=True,cbar=False);plt.show()  \n",
    "    \n",
    "# X_train, X_test, y_train, y_test = train_test_split(X, y, test_size=0.2, random_state=42)\n",
    "corrMat(df)\n"
   ]
  },
  {
   "cell_type": "markdown",
   "metadata": {},
   "source": [
    "## Filling in Missing Living Area Values"
   ]
  },
  {
   "cell_type": "markdown",
   "metadata": {},
   "source": [
    "Square footage is one of the most influential factors in determining house prices. The dataset includes living area (square footage) as a feature, but a significant number of records have missing values for this variable.\n",
    "Base on the Coorelation matrix there is corelation between 'lotAreaValue', 'bedrooms', 'bathrooms', 'price' and living area square footage. Here we try fills in missing 'livingArea' values in a dataset using a machine learning model called Random Forest Regressor. It trains the model using known 'livingArea' values and other related features, then uses the trained model to predict the missing 'livingArea' values based on those features."
   ]
  },
  {
   "cell_type": "code",
   "execution_count": 604,
   "metadata": {},
   "outputs": [
    {
     "name": "stdout",
     "output_type": "stream",
     "text": [
      "Mean Absolute Error (MAE): 426.2350555732148\n",
      "Mean Squared Error (MSE): 302047.0618147725\n",
      "Root Mean Squared Error (RMSE): 549.5880837634423\n",
      "R-squared (R2): 0.7427439433412726\n"
     ]
    },
    {
     "name": "stderr",
     "output_type": "stream",
     "text": [
      "/Users/hamidhooshmandi/anaconda3/envs/USD/lib/python3.11/site-packages/sklearn/metrics/_regression.py:483: FutureWarning: 'squared' is deprecated in version 1.4 and will be removed in 1.6. To calculate the root mean squared error, use the function'root_mean_squared_error'.\n",
      "  warnings.warn(\n"
     ]
    }
   ],
   "source": [
    "from sklearn.ensemble import RandomForestRegressor\n",
    "from sklearn.model_selection import train_test_split\n",
    "from sklearn.metrics import mean_absolute_error, mean_squared_error, r2_score\n",
    "\n",
    "def fill_missing_living_area(df):\n",
    "    known_area = df[df['livingArea'].notnull()]\n",
    "    unknown_area = df[df['livingArea'].isnull()]\n",
    "    \n",
    "    features = ['lotAreaValue', 'bedrooms', 'bathrooms', 'price']\n",
    "    target = 'livingArea'\n",
    "    \n",
    "    X_known = known_area[features]\n",
    "    y_known = known_area[target]\n",
    "    \n",
    "    X_train, X_test, y_train, y_test = train_test_split(X_known, y_known, test_size=0.2, random_state=42)\n",
    "    \n",
    "    rf_model = RandomForestRegressor(n_estimators=100, random_state=42)\n",
    "    rf_model.fit(X_train, y_train)\n",
    "    \n",
    "    y_pred = rf_model.predict(X_test)\n",
    "    \n",
    "    mae = mean_absolute_error(y_test, y_pred)\n",
    "    mse = mean_squared_error(y_test, y_pred)\n",
    "    rmse = mean_squared_error(y_test, y_pred, squared=False)\n",
    "    r2 = r2_score(y_test, y_pred)\n",
    "    \n",
    "    print(\"Mean Absolute Error (MAE):\", mae)\n",
    "    print(\"Mean Squared Error (MSE):\", mse)\n",
    "    print(\"Root Mean Squared Error (RMSE):\", rmse)\n",
    "    print(\"R-squared (R2):\", r2)\n",
    "    \n",
    "    X_unknown = unknown_area[features]\n",
    "    predicted_areas = rf_model.predict(X_unknown)\n",
    "    \n",
    "    df.loc[df['livingArea'].isnull(), 'livingArea'] = predicted_areas\n",
    "    df.loc[df['livingArea'] < 0, 'livingArea'] = 0\n",
    "    \n",
    "    return df\n",
    "\n",
    "df = fill_missing_living_area(df)"
   ]
  },
  {
   "cell_type": "markdown",
   "metadata": {},
   "source": [
    "bathrooms have a strong positive correlation with bedrooms (0.7), which is expected since more bedrooms often mean more bathrooms.\n",
    "based on this we create a 'Total Rooms' Feature: Since bathrooms and bedrooms are highly correlated, we create a new feature that combines them, such as total_rooms = bathrooms + bedrooms. This could help the model by consolidating two highly correlated features into one."
   ]
  },
  {
   "cell_type": "markdown",
   "metadata": {},
   "source": [
    "## Add bedrooms+bathrooms"
   ]
  },
  {
   "cell_type": "code",
   "execution_count": 605,
   "metadata": {},
   "outputs": [],
   "source": [
    "def combine_and_drop(df):\n",
    "    df['total_rooms'] = df['bedrooms'] + df['bathrooms']\n",
    "    df = df.drop(['bedrooms', 'bathrooms'], axis=1)\n",
    "    df.head()\n",
    "    return df\n",
    "\n",
    "df = combine_and_drop(df)"
   ]
  },
  {
   "cell_type": "markdown",
   "metadata": {},
   "source": [
    "## remove nan"
   ]
  },
  {
   "cell_type": "code",
   "execution_count": 606,
   "metadata": {},
   "outputs": [
    {
     "name": "stdout",
     "output_type": "stream",
     "text": [
      "Categorical columns:Index([], dtype='object')\n",
      "Number of rows: 4363\n"
     ]
    }
   ],
   "source": [
    "def print_categorical_value_counts(df):\n",
    "    categorical_columns = df.select_dtypes(include=['object', 'bool']).columns\n",
    "\n",
    "    print(\"Categorical columns:\"+ str(categorical_columns))\n",
    "\n",
    "    for column in categorical_columns:\n",
    "        print(f\"Value counts for {column}:\")\n",
    "        print(df[column].value_counts())\n",
    "        print(\"\\n\")\n",
    "\n",
    "    print(f\"Number of rows: {df.shape[0]}\")\n",
    "    df.head()\n",
    "    return df\n",
    "\n",
    "df = print_categorical_value_counts(df)"
   ]
  },
  {
   "cell_type": "code",
   "execution_count": 607,
   "metadata": {},
   "outputs": [
    {
     "name": "stdout",
     "output_type": "stream",
     "text": [
      "['longitude', 'timeOnZillow', 'lotAreaValue', 'latitude']\n",
      "longitude: 4008\n",
      "timeOnZillow: 6\n",
      "lotAreaValue: 2867\n",
      "latitude: 4008\n",
      "Number of columns with NaN values: 4\n",
      "Number of columns with NaN values: 4\n",
      "Number of rows: 4363\n",
      "Number of rows: 4363\n"
     ]
    },
    {
     "data": {
      "text/html": [
       "<div>\n",
       "<style scoped>\n",
       "    .dataframe tbody tr th:only-of-type {\n",
       "        vertical-align: middle;\n",
       "    }\n",
       "\n",
       "    .dataframe tbody tr th {\n",
       "        vertical-align: top;\n",
       "    }\n",
       "\n",
       "    .dataframe thead th {\n",
       "        text-align: right;\n",
       "    }\n",
       "</style>\n",
       "<table border=\"1\" class=\"dataframe\">\n",
       "  <thead>\n",
       "    <tr style=\"text-align: right;\">\n",
       "      <th></th>\n",
       "      <th>longitude</th>\n",
       "      <th>timeOnZillow</th>\n",
       "      <th>daysOnZillow</th>\n",
       "      <th>lotAreaValue</th>\n",
       "      <th>latitude</th>\n",
       "      <th>price</th>\n",
       "      <th>livingArea</th>\n",
       "      <th>homeType_CONDO</th>\n",
       "      <th>homeType_MULTI_FAMILY</th>\n",
       "      <th>homeType_SINGLE_FAMILY</th>\n",
       "      <th>homeType_TOWNHOUSE</th>\n",
       "      <th>total_rooms</th>\n",
       "    </tr>\n",
       "  </thead>\n",
       "  <tbody>\n",
       "    <tr>\n",
       "      <th>0</th>\n",
       "      <td>NaN</td>\n",
       "      <td>6.205267e+10</td>\n",
       "      <td>718</td>\n",
       "      <td>NaN</td>\n",
       "      <td>NaN</td>\n",
       "      <td>430000</td>\n",
       "      <td>1344.409161</td>\n",
       "      <td>1.0</td>\n",
       "      <td>0.0</td>\n",
       "      <td>0.0</td>\n",
       "      <td>0.0</td>\n",
       "      <td>1.0</td>\n",
       "    </tr>\n",
       "    <tr>\n",
       "      <th>1</th>\n",
       "      <td>-79.419914</td>\n",
       "      <td>8.036947e+10</td>\n",
       "      <td>930</td>\n",
       "      <td>NaN</td>\n",
       "      <td>43.661144</td>\n",
       "      <td>1452000</td>\n",
       "      <td>750.000000</td>\n",
       "      <td>0.0</td>\n",
       "      <td>0.0</td>\n",
       "      <td>1.0</td>\n",
       "      <td>0.0</td>\n",
       "      <td>1.0</td>\n",
       "    </tr>\n",
       "    <tr>\n",
       "      <th>2</th>\n",
       "      <td>NaN</td>\n",
       "      <td>8.131987e+10</td>\n",
       "      <td>941</td>\n",
       "      <td>NaN</td>\n",
       "      <td>NaN</td>\n",
       "      <td>430000</td>\n",
       "      <td>1344.409161</td>\n",
       "      <td>1.0</td>\n",
       "      <td>0.0</td>\n",
       "      <td>0.0</td>\n",
       "      <td>0.0</td>\n",
       "      <td>1.0</td>\n",
       "    </tr>\n",
       "    <tr>\n",
       "      <th>3</th>\n",
       "      <td>NaN</td>\n",
       "      <td>8.563987e+10</td>\n",
       "      <td>991</td>\n",
       "      <td>NaN</td>\n",
       "      <td>NaN</td>\n",
       "      <td>1300000</td>\n",
       "      <td>1552.920822</td>\n",
       "      <td>0.0</td>\n",
       "      <td>0.0</td>\n",
       "      <td>1.0</td>\n",
       "      <td>0.0</td>\n",
       "      <td>4.0</td>\n",
       "    </tr>\n",
       "    <tr>\n",
       "      <th>4</th>\n",
       "      <td>NaN</td>\n",
       "      <td>6.205267e+10</td>\n",
       "      <td>718</td>\n",
       "      <td>NaN</td>\n",
       "      <td>NaN</td>\n",
       "      <td>430000</td>\n",
       "      <td>1344.409161</td>\n",
       "      <td>1.0</td>\n",
       "      <td>0.0</td>\n",
       "      <td>0.0</td>\n",
       "      <td>0.0</td>\n",
       "      <td>1.0</td>\n",
       "    </tr>\n",
       "  </tbody>\n",
       "</table>\n",
       "</div>"
      ],
      "text/plain": [
       "   longitude  timeOnZillow  daysOnZillow  lotAreaValue   latitude    price  \\\n",
       "0        NaN  6.205267e+10           718           NaN        NaN   430000   \n",
       "1 -79.419914  8.036947e+10           930           NaN  43.661144  1452000   \n",
       "2        NaN  8.131987e+10           941           NaN        NaN   430000   \n",
       "3        NaN  8.563987e+10           991           NaN        NaN  1300000   \n",
       "4        NaN  6.205267e+10           718           NaN        NaN   430000   \n",
       "\n",
       "    livingArea  homeType_CONDO  homeType_MULTI_FAMILY  homeType_SINGLE_FAMILY  \\\n",
       "0  1344.409161             1.0                    0.0                     0.0   \n",
       "1   750.000000             0.0                    0.0                     1.0   \n",
       "2  1344.409161             1.0                    0.0                     0.0   \n",
       "3  1552.920822             0.0                    0.0                     1.0   \n",
       "4  1344.409161             1.0                    0.0                     0.0   \n",
       "\n",
       "   homeType_TOWNHOUSE  total_rooms  \n",
       "0                 0.0          1.0  \n",
       "1                 0.0          1.0  \n",
       "2                 0.0          1.0  \n",
       "3                 0.0          4.0  \n",
       "4                 0.0          1.0  "
      ]
     },
     "execution_count": 607,
     "metadata": {},
     "output_type": "execute_result"
    }
   ],
   "source": [
    "print(df.columns[df.isna().any()].tolist())\n",
    "\n",
    "nan_cols = df.columns[df.isna().any()].tolist()\n",
    "\n",
    "# df = df[df['price'].notna()]\n",
    "# df = df[df['bedrooms'].notna() & df['bathrooms'].notna()]\n",
    "# df = df[df['livingArea'].notna()]\n",
    "\n",
    "for col in nan_cols:\n",
    "    print(f\"{col}: {df[col].isna().sum()}\")\n",
    "\n",
    "# Count columns with NaN values\n",
    "nan_cols_count = df.columns[df.isna().any()].shape[0]\n",
    "print(f\"Number of columns with NaN values: {nan_cols_count}\")\n",
    "\n",
    "# Remove columns with NaN values\n",
    "# df = df.dropna(axis=1)\n",
    "print(f\"Number of columns with NaN values: {nan_cols_count}\")\n",
    "\n",
    "print(f\"Number of rows: {df.shape[0]}\")\n",
    "# print((df['bedrooms'] == 0).sum())\n",
    "# df = df[df['bedrooms'] != 0]\n",
    "\n",
    "\n",
    "print(f\"Number of rows: {df.shape[0]}\")\n",
    "df.head()\n",
    "\n"
   ]
  },
  {
   "cell_type": "markdown",
   "metadata": {},
   "source": [
    "## Handle missing values"
   ]
  },
  {
   "cell_type": "code",
   "execution_count": 608,
   "metadata": {},
   "outputs": [],
   "source": [
    "def handle_missing_values(df):\n",
    "    df = df[df['price'].notna()]\n",
    "    df = df.dropna(axis=1)\n",
    "    return df\n",
    "\n",
    "df = handle_missing_values(df)"
   ]
  },
  {
   "cell_type": "markdown",
   "metadata": {},
   "source": [
    "# Training the Model\n",
    "Implementing a Linear Regression model and split the data into training and testing sets"
   ]
  },
  {
   "cell_type": "code",
   "execution_count": 609,
   "metadata": {},
   "outputs": [
    {
     "name": "stdout",
     "output_type": "stream",
     "text": [
      "Number of rows: 4363\n"
     ]
    },
    {
     "data": {
      "text/html": [
       "<div>\n",
       "<style scoped>\n",
       "    .dataframe tbody tr th:only-of-type {\n",
       "        vertical-align: middle;\n",
       "    }\n",
       "\n",
       "    .dataframe tbody tr th {\n",
       "        vertical-align: top;\n",
       "    }\n",
       "\n",
       "    .dataframe thead th {\n",
       "        text-align: right;\n",
       "    }\n",
       "</style>\n",
       "<table border=\"1\" class=\"dataframe\">\n",
       "  <thead>\n",
       "    <tr style=\"text-align: right;\">\n",
       "      <th></th>\n",
       "      <th>daysOnZillow</th>\n",
       "      <th>price</th>\n",
       "      <th>livingArea</th>\n",
       "      <th>homeType_CONDO</th>\n",
       "      <th>homeType_MULTI_FAMILY</th>\n",
       "      <th>homeType_SINGLE_FAMILY</th>\n",
       "      <th>homeType_TOWNHOUSE</th>\n",
       "      <th>total_rooms</th>\n",
       "    </tr>\n",
       "  </thead>\n",
       "  <tbody>\n",
       "    <tr>\n",
       "      <th>0</th>\n",
       "      <td>718</td>\n",
       "      <td>430000</td>\n",
       "      <td>1344.409161</td>\n",
       "      <td>1.0</td>\n",
       "      <td>0.0</td>\n",
       "      <td>0.0</td>\n",
       "      <td>0.0</td>\n",
       "      <td>1.0</td>\n",
       "    </tr>\n",
       "    <tr>\n",
       "      <th>1</th>\n",
       "      <td>930</td>\n",
       "      <td>1452000</td>\n",
       "      <td>750.000000</td>\n",
       "      <td>0.0</td>\n",
       "      <td>0.0</td>\n",
       "      <td>1.0</td>\n",
       "      <td>0.0</td>\n",
       "      <td>1.0</td>\n",
       "    </tr>\n",
       "    <tr>\n",
       "      <th>2</th>\n",
       "      <td>941</td>\n",
       "      <td>430000</td>\n",
       "      <td>1344.409161</td>\n",
       "      <td>1.0</td>\n",
       "      <td>0.0</td>\n",
       "      <td>0.0</td>\n",
       "      <td>0.0</td>\n",
       "      <td>1.0</td>\n",
       "    </tr>\n",
       "    <tr>\n",
       "      <th>3</th>\n",
       "      <td>991</td>\n",
       "      <td>1300000</td>\n",
       "      <td>1552.920822</td>\n",
       "      <td>0.0</td>\n",
       "      <td>0.0</td>\n",
       "      <td>1.0</td>\n",
       "      <td>0.0</td>\n",
       "      <td>4.0</td>\n",
       "    </tr>\n",
       "    <tr>\n",
       "      <th>4</th>\n",
       "      <td>718</td>\n",
       "      <td>430000</td>\n",
       "      <td>1344.409161</td>\n",
       "      <td>1.0</td>\n",
       "      <td>0.0</td>\n",
       "      <td>0.0</td>\n",
       "      <td>0.0</td>\n",
       "      <td>1.0</td>\n",
       "    </tr>\n",
       "  </tbody>\n",
       "</table>\n",
       "</div>"
      ],
      "text/plain": [
       "   daysOnZillow    price   livingArea  homeType_CONDO  homeType_MULTI_FAMILY  \\\n",
       "0           718   430000  1344.409161             1.0                    0.0   \n",
       "1           930  1452000   750.000000             0.0                    0.0   \n",
       "2           941   430000  1344.409161             1.0                    0.0   \n",
       "3           991  1300000  1552.920822             0.0                    0.0   \n",
       "4           718   430000  1344.409161             1.0                    0.0   \n",
       "\n",
       "   homeType_SINGLE_FAMILY  homeType_TOWNHOUSE  total_rooms  \n",
       "0                     0.0                 0.0          1.0  \n",
       "1                     1.0                 0.0          1.0  \n",
       "2                     0.0                 0.0          1.0  \n",
       "3                     1.0                 0.0          4.0  \n",
       "4                     0.0                 0.0          1.0  "
      ]
     },
     "execution_count": 609,
     "metadata": {},
     "output_type": "execute_result"
    }
   ],
   "source": [
    "# Final columns before training\n",
    "print(f\"Number of rows: {df.shape[0]}\")\n",
    "\n",
    "df.head()\n",
    "# df.to_csv('training_dataset_saved.csv', index=False)"
   ]
  },
  {
   "cell_type": "markdown",
   "metadata": {},
   "source": [
    "## Linear Regression"
   ]
  },
  {
   "cell_type": "code",
   "execution_count": 610,
   "metadata": {},
   "outputs": [],
   "source": [
    "from sklearn.model_selection import train_test_split\n",
    "from sklearn.linear_model import LinearRegression\n",
    "from sklearn.metrics import mean_squared_error\n",
    "from sklearn.preprocessing import StandardScaler\n",
    "import numpy as np\n",
    "\n",
    "def train_linear_regression(df, target):\n",
    "    X = df.drop(target, axis=1)\n",
    "    y = df[target]\n",
    "    \n",
    "    X_train, X_test, y_train, y_test = train_test_split(X, y, test_size=0.2, random_state=42)\n",
    "    scaler = StandardScaler()\n",
    "    \n",
    "    X_train_scaled = scaler.fit_transform(X_train)\n",
    "    X_test_scaled = scaler.transform(X_test)\n",
    "    \n",
    "    linear_model = LinearRegression()\n",
    "    linear_model.fit(X_train_scaled, y_train)\n",
    "    \n",
    "    y_pred = linear_model.predict(X_test_scaled)\n",
    "    return y_test, y_pred\n",
    "\n",
    "y_test_lin, y_pred_lin = train_linear_regression(df, 'price')\n",
    "\n"
   ]
  },
  {
   "cell_type": "markdown",
   "metadata": {},
   "source": [
    "### Evaluation "
   ]
  },
  {
   "cell_type": "code",
   "execution_count": 611,
   "metadata": {},
   "outputs": [
    {
     "name": "stdout",
     "output_type": "stream",
     "text": [
      "Root Mean Squared Error (RMSE) on Test Set for Linear Regression: 702610.2823844797\n",
      "R-squared (R2) on Test Set for Linear Regression: 0.2818240713478565\n",
      "---------------------------------------------------------------------------\n",
      "\n"
     ]
    }
   ],
   "source": [
    "from sklearn.metrics import r2_score\n",
    "\n",
    "def calculate_metrics(y_test, y_pred, model_name):\n",
    "    rmse = np.sqrt(mean_squared_error(y_test, y_pred))\n",
    "    r_squared = r2_score(y_test, y_pred)\n",
    "    print(f\"Root Mean Squared Error (RMSE) on Test Set for {model_name}: {rmse}\")\n",
    "    print(f\"R-squared (R2) on Test Set for {model_name}: {r_squared}\")\n",
    "    print(\"---------------------------------------------------------------------------\\n\")\n",
    "\n",
    "calculate_metrics(y_test_lin, y_pred_lin, 'Linear Regression')"
   ]
  },
  {
   "cell_type": "markdown",
   "metadata": {},
   "source": [
    "## Random Forest"
   ]
  },
  {
   "cell_type": "code",
   "execution_count": 612,
   "metadata": {},
   "outputs": [],
   "source": [
    "from sklearn.ensemble import RandomForestRegressor\n",
    "\n",
    "def train_random_forest(df, target):\n",
    "    X = df.drop(target, axis=1)\n",
    "    y = df[target]\n",
    "    \n",
    "    X_train, X_test, y_train, y_test = train_test_split(X, y, test_size=0.2, random_state=42)\n",
    "    scaler = StandardScaler()\n",
    "    \n",
    "    X_train_scaled = scaler.fit_transform(X_train)\n",
    "    X_test_scaled = scaler.transform(X_test)\n",
    "    \n",
    "    random_forest_model = RandomForestRegressor(n_estimators=100, random_state=42)\n",
    "    random_forest_model.fit(X_train_scaled, y_train)\n",
    "    \n",
    "    y_pred = random_forest_model.predict(X_test_scaled)\n",
    "    return y_test, y_pred\n",
    "y_test_rf, y_pred_rf = train_random_forest(df, 'price')\n",
    "\n"
   ]
  },
  {
   "cell_type": "markdown",
   "metadata": {},
   "source": [
    "### Evaluation"
   ]
  },
  {
   "cell_type": "code",
   "execution_count": 613,
   "metadata": {},
   "outputs": [
    {
     "name": "stdout",
     "output_type": "stream",
     "text": [
      "Root Mean Squared Error (RMSE) on Test Set for Random Forest: 104669.94412882194\n",
      "R-squared (R2) on Test Set for Random Forest: 0.984061559448043\n",
      "---------------------------------------------------------------------------\n",
      "\n"
     ]
    }
   ],
   "source": [
    "calculate_metrics(y_test_rf, y_pred_rf, \"Random Forest\")\n"
   ]
  },
  {
   "cell_type": "markdown",
   "metadata": {},
   "source": [
    "## Update coordinates and rerun\n",
    "We cannot use addresses directly in the model, and the original dataset had only a few records with both latitude and longitude set. However, addresses are crucial for home price prediction. To incorporate addresses into the model, we used a Python script (get-data/geoapify.py) to call the Geoapify API and fetch coordinates (latitude and longitude) for the addresses. These coordinates were then saved in a CSV file (zillow_homes_sold_toronto_coordinates_added.csv), and the dataset was updated with the retrieved coordinates. The models will be rerun using this new dataset."
   ]
  },
  {
   "cell_type": "code",
   "execution_count": 614,
   "metadata": {},
   "outputs": [
    {
     "name": "stdout",
     "output_type": "stream",
     "text": [
      "Number of rows: 5220\n",
      "columns_with_many_missing: Index([], dtype='object')\n",
      "Columns dropped: ['currency', 'lotAreaUnit', 'isPreforeclosureAuction', 'zpid', 'priceForHDP', 'country', 'dateSold', 'isFeatured', 'isPremierBuilder', 'listing_sub_type', 'isShowcaseListing', 'shouldHighlight', 'isNonOwnerOccupied', 'streetAddress', 'homeStatusForHDP', 'homeStatus', 'taxAssessedValue', 'isUnmappable', 'zipcode', 'rentZestimate', 'isZillowOwned', 'city', 'state', 'zestimate']\n",
      "\n",
      "Remaining columns: ['longitude', 'timeOnZillow', 'daysOnZillow', 'lotAreaValue', 'latitude', 'bedrooms', 'homeType', 'bathrooms', 'price', 'livingArea']\n",
      "Number of rows: 5220\n",
      "Mean Absolute Error (MAE): 409.7401142629799\n",
      "Mean Squared Error (MSE): 270724.04157899175\n",
      "Root Mean Squared Error (RMSE): 520.3114851499934\n",
      "R-squared (R2): 0.7642229009796095\n"
     ]
    },
    {
     "name": "stdout",
     "output_type": "stream",
     "text": [
      "Duplicates before: 857\n",
      "Duplicates after: 0\n",
      "Number of rows: 4363\n"
     ]
    },
    {
     "name": "stderr",
     "output_type": "stream",
     "text": [
      "/Users/hamidhooshmandi/anaconda3/envs/USD/lib/python3.11/site-packages/sklearn/metrics/_regression.py:483: FutureWarning: 'squared' is deprecated in version 1.4 and will be removed in 1.6. To calculate the root mean squared error, use the function'root_mean_squared_error'.\n",
      "  warnings.warn(\n"
     ]
    },
    {
     "data": {
      "text/html": [
       "<div>\n",
       "<style scoped>\n",
       "    .dataframe tbody tr th:only-of-type {\n",
       "        vertical-align: middle;\n",
       "    }\n",
       "\n",
       "    .dataframe tbody tr th {\n",
       "        vertical-align: top;\n",
       "    }\n",
       "\n",
       "    .dataframe thead th {\n",
       "        text-align: right;\n",
       "    }\n",
       "</style>\n",
       "<table border=\"1\" class=\"dataframe\">\n",
       "  <thead>\n",
       "    <tr style=\"text-align: right;\">\n",
       "      <th></th>\n",
       "      <th>longitude</th>\n",
       "      <th>daysOnZillow</th>\n",
       "      <th>latitude</th>\n",
       "      <th>price</th>\n",
       "      <th>livingArea</th>\n",
       "      <th>homeType_CONDO</th>\n",
       "      <th>homeType_MULTI_FAMILY</th>\n",
       "      <th>homeType_SINGLE_FAMILY</th>\n",
       "      <th>homeType_TOWNHOUSE</th>\n",
       "      <th>total_rooms</th>\n",
       "    </tr>\n",
       "  </thead>\n",
       "  <tbody>\n",
       "    <tr>\n",
       "      <th>0</th>\n",
       "      <td>-79.400083</td>\n",
       "      <td>718</td>\n",
       "      <td>43.636951</td>\n",
       "      <td>430000</td>\n",
       "      <td>1345.800574</td>\n",
       "      <td>1.0</td>\n",
       "      <td>0.0</td>\n",
       "      <td>0.0</td>\n",
       "      <td>0.0</td>\n",
       "      <td>1.0</td>\n",
       "    </tr>\n",
       "    <tr>\n",
       "      <th>1</th>\n",
       "      <td>-79.419914</td>\n",
       "      <td>930</td>\n",
       "      <td>43.661144</td>\n",
       "      <td>1452000</td>\n",
       "      <td>750.000000</td>\n",
       "      <td>0.0</td>\n",
       "      <td>0.0</td>\n",
       "      <td>1.0</td>\n",
       "      <td>0.0</td>\n",
       "      <td>1.0</td>\n",
       "    </tr>\n",
       "    <tr>\n",
       "      <th>2</th>\n",
       "      <td>-79.400083</td>\n",
       "      <td>941</td>\n",
       "      <td>43.636951</td>\n",
       "      <td>430000</td>\n",
       "      <td>1345.800574</td>\n",
       "      <td>1.0</td>\n",
       "      <td>0.0</td>\n",
       "      <td>0.0</td>\n",
       "      <td>0.0</td>\n",
       "      <td>1.0</td>\n",
       "    </tr>\n",
       "    <tr>\n",
       "      <th>3</th>\n",
       "      <td>-80.344809</td>\n",
       "      <td>991</td>\n",
       "      <td>43.355007</td>\n",
       "      <td>1300000</td>\n",
       "      <td>1388.423412</td>\n",
       "      <td>0.0</td>\n",
       "      <td>0.0</td>\n",
       "      <td>1.0</td>\n",
       "      <td>0.0</td>\n",
       "      <td>4.0</td>\n",
       "    </tr>\n",
       "    <tr>\n",
       "      <th>4</th>\n",
       "      <td>-79.400083</td>\n",
       "      <td>718</td>\n",
       "      <td>43.636951</td>\n",
       "      <td>430000</td>\n",
       "      <td>1345.800574</td>\n",
       "      <td>1.0</td>\n",
       "      <td>0.0</td>\n",
       "      <td>0.0</td>\n",
       "      <td>0.0</td>\n",
       "      <td>1.0</td>\n",
       "    </tr>\n",
       "  </tbody>\n",
       "</table>\n",
       "</div>"
      ],
      "text/plain": [
       "   longitude  daysOnZillow   latitude    price   livingArea  homeType_CONDO  \\\n",
       "0 -79.400083           718  43.636951   430000  1345.800574             1.0   \n",
       "1 -79.419914           930  43.661144  1452000   750.000000             0.0   \n",
       "2 -79.400083           941  43.636951   430000  1345.800574             1.0   \n",
       "3 -80.344809           991  43.355007  1300000  1388.423412             0.0   \n",
       "4 -79.400083           718  43.636951   430000  1345.800574             1.0   \n",
       "\n",
       "   homeType_MULTI_FAMILY  homeType_SINGLE_FAMILY  homeType_TOWNHOUSE  \\\n",
       "0                    0.0                     0.0                 0.0   \n",
       "1                    0.0                     1.0                 0.0   \n",
       "2                    0.0                     0.0                 0.0   \n",
       "3                    0.0                     1.0                 0.0   \n",
       "4                    0.0                     0.0                 0.0   \n",
       "\n",
       "   total_rooms  \n",
       "0          1.0  \n",
       "1          1.0  \n",
       "2          1.0  \n",
       "3          4.0  \n",
       "4          1.0  "
      ]
     },
     "execution_count": 614,
     "metadata": {},
     "output_type": "execute_result"
    }
   ],
   "source": [
    "df = load_dataset(\"zillow_homes_sold_toronto_cordinations_added.csv\")\n",
    "df = drop_columns(df)\n",
    "df = encode_homeType(df)\n",
    "df = fill_missing_living_area(df)\n",
    "df = remove_duplicates(df)\n",
    "df = combine_and_drop(df)\n",
    "df = handle_missing_values(df)\n",
    "df.head()"
   ]
  },
  {
   "cell_type": "code",
   "execution_count": 615,
   "metadata": {},
   "outputs": [
    {
     "name": "stdout",
     "output_type": "stream",
     "text": [
      "Root Mean Squared Error (RMSE) on Test Set for Linear Regression: 662352.6857885264\n",
      "R-squared (R2) on Test Set for Linear Regression: 0.36176525141651195\n",
      "---------------------------------------------------------------------------\n",
      "\n",
      "Root Mean Squared Error (RMSE) on Test Set for Random Forest: 79947.17808153699\n",
      "R-squared (R2) on Test Set for Random Forest: 0.9907016022416393\n",
      "---------------------------------------------------------------------------\n",
      "\n"
     ]
    }
   ],
   "source": [
    "y_test_lin, y_pred_lin = train_linear_regression(df, 'price')\n",
    "calculate_metrics(y_test_lin, y_pred_lin, \"Linear Regression\")\n",
    "\n",
    "y_test_rf, y_pred_rf = train_random_forest(df, 'price')\n",
    "calculate_metrics(y_test_rf, y_pred_rf, \"Random Forest\")\n"
   ]
  },
  {
   "cell_type": "markdown",
   "metadata": {},
   "source": [
    "# RMSE Analysis\n",
    "Average Price Context: The average price in the dataset is approximately $1,402,629. An RMSE of 79,947 represents about 5.7% of the average price, indicating a relatively small error relative to the average home value.\n",
    "\n",
    "Compared to Standard Deviation: The standard deviation of the prices is $861,432.95, suggesting significant variability in house prices. An RMSE much smaller than the standard deviation indicates that the model predictions are reasonably accurate within the existing price variability.\n",
    "\n",
    "Relative Error Scale: Considering the price range in the dataset, from a minimum of $1,600 to a maximum of $5,200,000, an RMSE of 74,350.92 demonstrates a moderate level of precision, especially effective for middle and high-end properties."
   ]
  },
  {
   "cell_type": "markdown",
   "metadata": {},
   "source": [
    "# Conclusion \n",
    "The Random Forest model significantly outperformed the Linear Regression model, indicating its better suitability for this application. \n",
    "The results validate the effectiveness of the Random Forest model in predicting housing prices with high accuracy. Future efforts might focus on integrating more dynamic features and improving data collection to refine predictions further. This is likely due to:\n",
    "\n",
    "Non-linearity: Random Forest can capture complex, non-linear relationships between features that affect housing prices\n",
    "\n",
    "Robust to Outliers: This model is less sensitive to extreme values, which are common in real estate markets, like the occasional luxury home sales that do not fit typical pricing patterns.\n",
    "\n",
    "Feature Interactions: Random Forest automatically considers how combinations of features impact house prices. For example, the model can intuitively assess how the interaction between property size and its location (represented by latitude and longitude) affects its value, unlike Linear Regression, which requires explicitly crafted interaction terms to capture such complex relationships.\n",
    "\n",
    "Prevention of Overfitting: Random Forest uses techniques like bootstrapping and feature randomness to build diverse trees that generalize better to new data, reducing the risk of overfitting seen in complex Linear Regression models.\n",
    "\n",
    "Handles Various Data Types: It effortlessly processes different data types and does not require extensive preprocessing for categorical variables, streamlining the modeling process.\n"
   ]
  },
  {
   "cell_type": "markdown",
   "metadata": {},
   "source": [
    "# Model imporovements\n",
    "Following potentially can be done to improve model's performance:\n",
    "\n",
    "Feature Engineering: Develop new features that capture more nuances of the real estate market, such as proximity to amenities or property condition or walking score.\n",
    "\n",
    "Data Enrichment: Integrate additional data sources, such as economic indicators or demographic statistics, to provide more context for predictions.\n",
    "\n",
    "Advanced Modeling Techniques: Experiment with more complex models like Gradient Boosting Machines (GBM) or neural networks that might capture patterns better.\n",
    "\n",
    "Parameter Tuning: Optimize hyperparameters of the Random Forest model through grid search or random search to enhance model accuracy.\n",
    "\n",
    "Handling Outliers: Identify and manage outliers in the dataset that may skew the model predictions."
   ]
  }
 ],
 "metadata": {
  "kernelspec": {
   "display_name": "USD",
   "language": "python",
   "name": "python3"
  },
  "language_info": {
   "codemirror_mode": {
    "name": "ipython",
    "version": 3
   },
   "file_extension": ".py",
   "mimetype": "text/x-python",
   "name": "python",
   "nbconvert_exporter": "python",
   "pygments_lexer": "ipython3",
   "version": "3.11.5"
  }
 },
 "nbformat": 4,
 "nbformat_minor": 2
}
